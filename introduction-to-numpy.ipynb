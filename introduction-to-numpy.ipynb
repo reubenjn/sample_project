{
 "cells": [
  {
   "cell_type": "code",
   "execution_count": 2,
   "id": "9e664e17-9d23-4916-adac-6457fcc613f2",
   "metadata": {},
   "outputs": [],
   "source": [
    "import numpy as np"
   ]
  },
  {
   "cell_type": "markdown",
   "id": "a324bd23-21da-4abc-9d6f-bc33805dd204",
   "metadata": {},
   "source": [
    "## DataTypes & Attributes"
   ]
  },
  {
   "cell_type": "code",
   "execution_count": 3,
   "id": "cf165d89-4d5a-4288-aa21-70f411fa9d79",
   "metadata": {},
   "outputs": [
    {
     "data": {
      "text/plain": [
       "array([1, 2, 3])"
      ]
     },
     "execution_count": 3,
     "metadata": {},
     "output_type": "execute_result"
    }
   ],
   "source": [
    "# NumPy's main DataType is ndarray (n-dimensional array)\n",
    "a1 = np.array([1, 2, 3])\n",
    "a1"
   ]
  },
  {
   "cell_type": "code",
   "execution_count": 4,
   "id": "66a22c99-3cb1-43a1-846d-f4a3fd35553b",
   "metadata": {},
   "outputs": [
    {
     "data": {
      "text/plain": [
       "numpy.ndarray"
      ]
     },
     "execution_count": 4,
     "metadata": {},
     "output_type": "execute_result"
    }
   ],
   "source": [
    "type(a1)"
   ]
  },
  {
   "cell_type": "code",
   "execution_count": 5,
   "id": "be04152e-4168-477b-a542-4f2613364a5f",
   "metadata": {},
   "outputs": [
    {
     "data": {
      "text/plain": [
       "array([[1. , 2. , 3.3],\n",
       "       [4. , 5. , 6.3]])"
      ]
     },
     "execution_count": 5,
     "metadata": {},
     "output_type": "execute_result"
    }
   ],
   "source": [
    "a2 = np.array([[1, 2.0, 3.3],\n",
    "              [4, 5, 6.3]])\n",
    "a2"
   ]
  },
  {
   "cell_type": "code",
   "execution_count": 6,
   "id": "9c380a53-e639-42e0-ab57-eb5a0e9a8aef",
   "metadata": {},
   "outputs": [
    {
     "data": {
      "text/plain": [
       "array([[[ 1,  2,  3],\n",
       "        [ 4,  5,  6],\n",
       "        [ 7,  8,  9]],\n",
       "\n",
       "       [[10, 11, 12],\n",
       "        [13, 14, 15],\n",
       "        [16, 17, 18]]])"
      ]
     },
     "execution_count": 6,
     "metadata": {},
     "output_type": "execute_result"
    }
   ],
   "source": [
    "a3 = np.array([[[1, 2, 3],\n",
    "                [4, 5, 6],\n",
    "                [7, 8, 9]],\n",
    "               [[10, 11, 12],\n",
    "                [13, 14, 15],\n",
    "                [16, 17, 18]]])\n",
    "a3"
   ]
  },
  {
   "cell_type": "code",
   "execution_count": 7,
   "id": "3f6638e4-935f-4edc-b5cb-3bb7c9889c07",
   "metadata": {},
   "outputs": [
    {
     "data": {
      "text/plain": [
       "(3,)"
      ]
     },
     "execution_count": 7,
     "metadata": {},
     "output_type": "execute_result"
    }
   ],
   "source": [
    "a1.shape"
   ]
  },
  {
   "cell_type": "code",
   "execution_count": 8,
   "id": "c78a2dd4-5df7-412c-9fc2-7a8e579fe4b4",
   "metadata": {},
   "outputs": [
    {
     "data": {
      "text/plain": [
       "(2, 3)"
      ]
     },
     "execution_count": 8,
     "metadata": {},
     "output_type": "execute_result"
    }
   ],
   "source": [
    "a2.shape"
   ]
  },
  {
   "cell_type": "code",
   "execution_count": 9,
   "id": "1d7d6a37-685d-4af6-9422-f7bfcee31739",
   "metadata": {},
   "outputs": [
    {
     "data": {
      "text/plain": [
       "(2, 3, 3)"
      ]
     },
     "execution_count": 9,
     "metadata": {},
     "output_type": "execute_result"
    }
   ],
   "source": [
    "a3.shape"
   ]
  },
  {
   "cell_type": "code",
   "execution_count": 10,
   "id": "aa350340-f7e4-46c9-a119-33158bad89d9",
   "metadata": {},
   "outputs": [
    {
     "data": {
      "text/plain": [
       "(1, 2, 3)"
      ]
     },
     "execution_count": 10,
     "metadata": {},
     "output_type": "execute_result"
    }
   ],
   "source": [
    "a1.ndim, a2.ndim, a3.ndim"
   ]
  },
  {
   "cell_type": "code",
   "execution_count": 11,
   "id": "ebbfdb12-8fe8-4b04-bf3e-ac557b84e569",
   "metadata": {},
   "outputs": [
    {
     "data": {
      "text/plain": [
       "(dtype('int32'), dtype('float64'), dtype('int32'))"
      ]
     },
     "execution_count": 11,
     "metadata": {},
     "output_type": "execute_result"
    }
   ],
   "source": [
    "a1.dtype, a2.dtype, a3.dtype"
   ]
  },
  {
   "cell_type": "code",
   "execution_count": 12,
   "id": "7c322aef-cfb2-4a6f-9b0e-4ec51f828230",
   "metadata": {},
   "outputs": [
    {
     "data": {
      "text/plain": [
       "(3, 6, 18)"
      ]
     },
     "execution_count": 12,
     "metadata": {},
     "output_type": "execute_result"
    }
   ],
   "source": [
    "a1.size, a2.size, a3.size"
   ]
  },
  {
   "cell_type": "code",
   "execution_count": 13,
   "id": "d8b12f82-0dc6-432f-9a8b-eb1f8e5ba2d0",
   "metadata": {},
   "outputs": [
    {
     "data": {
      "text/plain": [
       "(numpy.ndarray, numpy.ndarray, numpy.ndarray)"
      ]
     },
     "execution_count": 13,
     "metadata": {},
     "output_type": "execute_result"
    }
   ],
   "source": [
    "type(a1), type(a2), type(a3)"
   ]
  },
  {
   "cell_type": "code",
   "execution_count": 14,
   "id": "16cea995-1007-49e0-a8d7-9bb49a5bac75",
   "metadata": {},
   "outputs": [
    {
     "data": {
      "text/plain": [
       "array([[1. , 2. , 3.3],\n",
       "       [4. , 5. , 6.3]])"
      ]
     },
     "execution_count": 14,
     "metadata": {},
     "output_type": "execute_result"
    }
   ],
   "source": [
    "a2"
   ]
  },
  {
   "cell_type": "code",
   "execution_count": 15,
   "id": "68c13db8-6ce4-42dd-aa91-8b43e5b6b2aa",
   "metadata": {},
   "outputs": [
    {
     "data": {
      "text/html": [
       "<div>\n",
       "<style scoped>\n",
       "    .dataframe tbody tr th:only-of-type {\n",
       "        vertical-align: middle;\n",
       "    }\n",
       "\n",
       "    .dataframe tbody tr th {\n",
       "        vertical-align: top;\n",
       "    }\n",
       "\n",
       "    .dataframe thead th {\n",
       "        text-align: right;\n",
       "    }\n",
       "</style>\n",
       "<table border=\"1\" class=\"dataframe\">\n",
       "  <thead>\n",
       "    <tr style=\"text-align: right;\">\n",
       "      <th></th>\n",
       "      <th>0</th>\n",
       "      <th>1</th>\n",
       "      <th>2</th>\n",
       "    </tr>\n",
       "  </thead>\n",
       "  <tbody>\n",
       "    <tr>\n",
       "      <th>0</th>\n",
       "      <td>1.0</td>\n",
       "      <td>2.0</td>\n",
       "      <td>3.3</td>\n",
       "    </tr>\n",
       "    <tr>\n",
       "      <th>1</th>\n",
       "      <td>4.0</td>\n",
       "      <td>5.0</td>\n",
       "      <td>6.3</td>\n",
       "    </tr>\n",
       "  </tbody>\n",
       "</table>\n",
       "</div>"
      ],
      "text/plain": [
       "     0    1    2\n",
       "0  1.0  2.0  3.3\n",
       "1  4.0  5.0  6.3"
      ]
     },
     "execution_count": 15,
     "metadata": {},
     "output_type": "execute_result"
    }
   ],
   "source": [
    "# Create a DataFrame from NumPy array\n",
    "import pandas as pd\n",
    "\n",
    "df = pd.DataFrame(a2)\n",
    "df"
   ]
  },
  {
   "cell_type": "markdown",
   "id": "6e3cd5af-1937-4212-b664-bf23d6af4ece",
   "metadata": {},
   "source": [
    "## 2. Creating Arrays"
   ]
  },
  {
   "cell_type": "code",
   "execution_count": 16,
   "id": "2adc8126-4319-43ca-98ff-1a061ba744ad",
   "metadata": {},
   "outputs": [
    {
     "data": {
      "text/plain": [
       "array([1, 2, 3])"
      ]
     },
     "execution_count": 16,
     "metadata": {},
     "output_type": "execute_result"
    }
   ],
   "source": [
    "sample_array = np.array([1, 2, 3])\n",
    "sample_array"
   ]
  },
  {
   "cell_type": "code",
   "execution_count": 17,
   "id": "c0e89abf-424a-4a28-a28c-3e6aef9e5785",
   "metadata": {},
   "outputs": [
    {
     "data": {
      "text/plain": [
       "array([[1., 1., 1.],\n",
       "       [1., 1., 1.]])"
      ]
     },
     "execution_count": 17,
     "metadata": {},
     "output_type": "execute_result"
    }
   ],
   "source": [
    "ones = np.ones((2, 3))\n",
    "ones"
   ]
  },
  {
   "cell_type": "code",
   "execution_count": 18,
   "id": "1db2067c-06cb-496b-b16d-495e69fb3fa3",
   "metadata": {},
   "outputs": [
    {
     "data": {
      "text/plain": [
       "array([[1, 1, 1],\n",
       "       [1, 1, 1]])"
      ]
     },
     "execution_count": 18,
     "metadata": {},
     "output_type": "execute_result"
    }
   ],
   "source": [
    "ones2 = np.ones((2, 3), dtype=int)\n",
    "ones2"
   ]
  },
  {
   "cell_type": "code",
   "execution_count": 20,
   "id": "33e49f44-0c06-4a77-9f46-9fb38123bb69",
   "metadata": {},
   "outputs": [
    {
     "data": {
      "text/plain": [
       "array([[1., 1., 1.],\n",
       "       [1., 1., 1.]])"
      ]
     },
     "execution_count": 20,
     "metadata": {},
     "output_type": "execute_result"
    }
   ],
   "source": [
    "ones3 = np.ones((2, 3), order='F')\n",
    "ones3"
   ]
  },
  {
   "cell_type": "code",
   "execution_count": 21,
   "id": "414e4afb-171b-48a5-b273-8915a29bd7de",
   "metadata": {},
   "outputs": [],
   "source": [
    "zeros = np.zeros((3, 4))"
   ]
  },
  {
   "cell_type": "code",
   "execution_count": 22,
   "id": "0712cac0-e798-4b88-9a49-575257e9c493",
   "metadata": {},
   "outputs": [
    {
     "data": {
      "text/plain": [
       "array([[0., 0., 0., 0.],\n",
       "       [0., 0., 0., 0.],\n",
       "       [0., 0., 0., 0.]])"
      ]
     },
     "execution_count": 22,
     "metadata": {},
     "output_type": "execute_result"
    }
   ],
   "source": [
    "zeros"
   ]
  },
  {
   "cell_type": "code",
   "execution_count": 24,
   "id": "4b646538-bd7d-48cd-b77c-4694709c0fd7",
   "metadata": {},
   "outputs": [
    {
     "data": {
      "text/plain": [
       "array([0, 3, 6, 9])"
      ]
     },
     "execution_count": 24,
     "metadata": {},
     "output_type": "execute_result"
    }
   ],
   "source": [
    "range_array = np.arange(start=0, stop=12, step=3)\n",
    "range_array"
   ]
  },
  {
   "cell_type": "code",
   "execution_count": 25,
   "id": "a457ff17-2ed4-41c7-96a3-c22decdf3b8e",
   "metadata": {},
   "outputs": [
    {
     "data": {
      "text/plain": [
       "array([[1, 9, 2, 5, 0],\n",
       "       [2, 4, 4, 9, 1],\n",
       "       [2, 1, 2, 6, 8]])"
      ]
     },
     "execution_count": 25,
     "metadata": {},
     "output_type": "execute_result"
    }
   ],
   "source": [
    "random_array = np.random.randint(0, 10, size=(3, 5))\n",
    "random_array"
   ]
  },
  {
   "cell_type": "code",
   "execution_count": 27,
   "id": "d4439bc4-3450-457a-bdf2-195653c5195c",
   "metadata": {},
   "outputs": [
    {
     "data": {
      "text/plain": [
       "array([[[0.86837214, 0.41049819, 0.6770035 ],\n",
       "        [0.74301824, 0.42486348, 0.74290162],\n",
       "        [0.71769539, 0.77698824, 0.17043556],\n",
       "        [0.14561856, 0.0280377 , 0.28332051],\n",
       "        [0.99761294, 0.07821622, 0.9989119 ]],\n",
       "\n",
       "       [[0.78292144, 0.76358076, 0.88010051],\n",
       "        [0.13552916, 0.3071099 , 0.49368642],\n",
       "        [0.51330139, 0.66966179, 0.82118275],\n",
       "        [0.21570167, 0.74938631, 0.97886356],\n",
       "        [0.43515673, 0.08906776, 0.78852728]],\n",
       "\n",
       "       [[0.70384233, 0.78263049, 0.587185  ],\n",
       "        [0.87684463, 0.34303861, 0.75917835],\n",
       "        [0.1770136 , 0.57778139, 0.44323061],\n",
       "        [0.4996743 , 0.88832645, 0.16856119],\n",
       "        [0.41744645, 0.66700224, 0.62133945]],\n",
       "\n",
       "       [[0.72462015, 0.96837864, 0.95741212],\n",
       "        [0.33863195, 0.54064888, 0.90641191],\n",
       "        [0.23570582, 0.83920193, 0.58916509],\n",
       "        [0.17551863, 0.42238191, 0.22944644],\n",
       "        [0.8457101 , 0.01269201, 0.29947983]]])"
      ]
     },
     "execution_count": 27,
     "metadata": {},
     "output_type": "execute_result"
    }
   ],
   "source": [
    "ran_arr2 = np.random.random((4, 5, 3))\n",
    "ran_arr2"
   ]
  },
  {
   "cell_type": "code",
   "execution_count": 29,
   "id": "28ec6a82-dd5d-4ead-afb6-fa51d714f35f",
   "metadata": {},
   "outputs": [
    {
     "data": {
      "text/plain": [
       "array([[[[4, 4, 2, 5, 5],\n",
       "         [6, 1, 1, 3, 2],\n",
       "         [3, 3, 4, 3, 2],\n",
       "         [1, 3, 5, 6, 4]],\n",
       "\n",
       "        [[4, 3, 3, 6, 6],\n",
       "         [5, 6, 1, 6, 2],\n",
       "         [2, 1, 5, 2, 2],\n",
       "         [2, 1, 3, 5, 5]],\n",
       "\n",
       "        [[1, 3, 2, 5, 5],\n",
       "         [2, 4, 4, 3, 2],\n",
       "         [3, 5, 2, 4, 1],\n",
       "         [6, 6, 4, 6, 5]]],\n",
       "\n",
       "\n",
       "       [[[1, 1, 2, 3, 2],\n",
       "         [2, 1, 3, 6, 2],\n",
       "         [3, 2, 2, 6, 6],\n",
       "         [6, 6, 5, 1, 3]],\n",
       "\n",
       "        [[4, 3, 1, 2, 4],\n",
       "         [1, 5, 1, 3, 1],\n",
       "         [3, 6, 2, 3, 2],\n",
       "         [3, 5, 6, 1, 6]],\n",
       "\n",
       "        [[3, 4, 4, 4, 6],\n",
       "         [1, 3, 3, 1, 4],\n",
       "         [5, 5, 2, 6, 3],\n",
       "         [4, 3, 5, 2, 1]]]])"
      ]
     },
     "execution_count": 29,
     "metadata": {},
     "output_type": "execute_result"
    }
   ],
   "source": [
    "ra1 = np.random.randint(1, 7, size=(2, 3, 4, 5))\n",
    "ra1"
   ]
  },
  {
   "cell_type": "code",
   "execution_count": 30,
   "id": "8466f6a1-7a15-4829-86bc-fbfa3419de57",
   "metadata": {},
   "outputs": [
    {
     "data": {
      "text/plain": [
       "array([[[[[4, 2, 6, 2, 3, 1],\n",
       "          [3, 6, 1, 5, 5, 6],\n",
       "          [1, 5, 4, 5, 2, 1],\n",
       "          [3, 2, 3, 1, 5, 6],\n",
       "          [6, 4, 5, 5, 4, 6]],\n",
       "\n",
       "         [[6, 1, 2, 1, 2, 5],\n",
       "          [2, 1, 3, 6, 5, 5],\n",
       "          [1, 5, 5, 2, 5, 6],\n",
       "          [6, 1, 1, 5, 1, 6],\n",
       "          [6, 6, 3, 2, 1, 2]],\n",
       "\n",
       "         [[6, 2, 5, 5, 5, 3],\n",
       "          [4, 6, 1, 1, 4, 3],\n",
       "          [3, 2, 6, 4, 1, 4],\n",
       "          [5, 2, 1, 5, 4, 1],\n",
       "          [1, 6, 3, 2, 1, 3]],\n",
       "\n",
       "         [[1, 2, 1, 1, 5, 1],\n",
       "          [6, 5, 4, 4, 1, 3],\n",
       "          [4, 1, 1, 3, 5, 3],\n",
       "          [3, 1, 2, 1, 3, 6],\n",
       "          [2, 1, 5, 4, 5, 5]]],\n",
       "\n",
       "\n",
       "        [[[3, 2, 1, 4, 6, 3],\n",
       "          [6, 4, 3, 3, 1, 6],\n",
       "          [3, 6, 2, 1, 6, 6],\n",
       "          [1, 4, 5, 2, 3, 6],\n",
       "          [3, 4, 5, 5, 2, 2]],\n",
       "\n",
       "         [[6, 6, 3, 6, 5, 4],\n",
       "          [1, 5, 3, 3, 2, 5],\n",
       "          [1, 5, 2, 5, 3, 2],\n",
       "          [3, 1, 6, 4, 2, 5],\n",
       "          [1, 6, 5, 6, 1, 6]],\n",
       "\n",
       "         [[1, 3, 5, 2, 3, 4],\n",
       "          [3, 3, 3, 5, 1, 5],\n",
       "          [2, 2, 4, 1, 3, 5],\n",
       "          [2, 5, 2, 4, 5, 5],\n",
       "          [4, 3, 5, 2, 4, 4]],\n",
       "\n",
       "         [[4, 2, 4, 3, 1, 1],\n",
       "          [3, 4, 2, 2, 4, 3],\n",
       "          [6, 1, 4, 4, 2, 4],\n",
       "          [1, 4, 4, 4, 6, 1],\n",
       "          [2, 5, 5, 4, 1, 6]]],\n",
       "\n",
       "\n",
       "        [[[3, 5, 6, 1, 5, 2],\n",
       "          [2, 1, 5, 1, 6, 3],\n",
       "          [1, 5, 4, 2, 2, 1],\n",
       "          [6, 2, 1, 5, 3, 6],\n",
       "          [3, 2, 3, 6, 2, 4]],\n",
       "\n",
       "         [[3, 5, 5, 1, 2, 6],\n",
       "          [6, 2, 4, 4, 2, 4],\n",
       "          [6, 3, 3, 4, 2, 6],\n",
       "          [4, 2, 4, 2, 1, 1],\n",
       "          [5, 6, 3, 3, 2, 3]],\n",
       "\n",
       "         [[4, 3, 5, 1, 4, 6],\n",
       "          [3, 3, 3, 5, 2, 6],\n",
       "          [5, 2, 3, 6, 4, 2],\n",
       "          [6, 3, 5, 6, 4, 3],\n",
       "          [3, 3, 2, 4, 2, 2]],\n",
       "\n",
       "         [[6, 2, 2, 1, 6, 6],\n",
       "          [1, 2, 4, 6, 2, 1],\n",
       "          [3, 3, 3, 4, 2, 2],\n",
       "          [6, 5, 6, 6, 5, 1],\n",
       "          [4, 5, 1, 6, 6, 3]]]],\n",
       "\n",
       "\n",
       "\n",
       "       [[[[1, 6, 1, 1, 1, 6],\n",
       "          [2, 1, 1, 5, 6, 2],\n",
       "          [5, 6, 1, 6, 4, 5],\n",
       "          [4, 4, 3, 6, 1, 3],\n",
       "          [2, 2, 3, 2, 4, 1]],\n",
       "\n",
       "         [[2, 5, 3, 4, 5, 4],\n",
       "          [1, 6, 3, 1, 6, 3],\n",
       "          [1, 5, 5, 6, 5, 1],\n",
       "          [6, 4, 5, 4, 4, 4],\n",
       "          [4, 4, 3, 3, 3, 4]],\n",
       "\n",
       "         [[1, 3, 6, 2, 5, 1],\n",
       "          [1, 6, 3, 6, 6, 6],\n",
       "          [3, 2, 1, 4, 4, 1],\n",
       "          [5, 3, 2, 2, 1, 1],\n",
       "          [1, 6, 4, 3, 4, 4]],\n",
       "\n",
       "         [[3, 3, 4, 3, 3, 6],\n",
       "          [6, 6, 5, 4, 6, 6],\n",
       "          [5, 5, 5, 4, 4, 4],\n",
       "          [5, 5, 2, 3, 1, 5],\n",
       "          [3, 4, 1, 3, 6, 6]]],\n",
       "\n",
       "\n",
       "        [[[3, 2, 2, 3, 2, 3],\n",
       "          [3, 2, 2, 4, 6, 5],\n",
       "          [4, 1, 3, 3, 2, 1],\n",
       "          [2, 3, 5, 5, 3, 2],\n",
       "          [2, 5, 2, 3, 4, 2]],\n",
       "\n",
       "         [[3, 5, 4, 4, 3, 6],\n",
       "          [1, 1, 2, 4, 6, 3],\n",
       "          [6, 1, 1, 3, 5, 1],\n",
       "          [4, 4, 3, 5, 5, 6],\n",
       "          [1, 1, 5, 2, 6, 4]],\n",
       "\n",
       "         [[3, 1, 1, 1, 2, 3],\n",
       "          [6, 6, 2, 4, 3, 5],\n",
       "          [5, 6, 4, 5, 2, 2],\n",
       "          [6, 6, 3, 4, 5, 1],\n",
       "          [3, 6, 3, 6, 2, 5]],\n",
       "\n",
       "         [[5, 5, 5, 1, 2, 4],\n",
       "          [4, 1, 1, 5, 3, 3],\n",
       "          [2, 1, 2, 3, 6, 2],\n",
       "          [1, 4, 6, 1, 1, 2],\n",
       "          [6, 1, 3, 2, 6, 6]]],\n",
       "\n",
       "\n",
       "        [[[5, 3, 2, 3, 6, 5],\n",
       "          [4, 5, 2, 4, 5, 2],\n",
       "          [6, 3, 5, 3, 6, 5],\n",
       "          [5, 2, 4, 4, 6, 5],\n",
       "          [1, 1, 3, 4, 5, 5]],\n",
       "\n",
       "         [[6, 3, 3, 5, 3, 2],\n",
       "          [3, 3, 4, 1, 5, 6],\n",
       "          [1, 2, 1, 4, 5, 1],\n",
       "          [5, 4, 2, 3, 6, 1],\n",
       "          [4, 2, 6, 2, 2, 6]],\n",
       "\n",
       "         [[5, 3, 1, 4, 1, 5],\n",
       "          [4, 5, 5, 2, 4, 6],\n",
       "          [4, 4, 5, 2, 2, 3],\n",
       "          [6, 4, 4, 1, 2, 5],\n",
       "          [2, 3, 1, 2, 1, 3]],\n",
       "\n",
       "         [[5, 6, 6, 3, 4, 1],\n",
       "          [2, 4, 6, 4, 2, 1],\n",
       "          [4, 3, 4, 3, 2, 2],\n",
       "          [2, 6, 5, 4, 3, 1],\n",
       "          [1, 4, 1, 5, 5, 6]]]]])"
      ]
     },
     "execution_count": 30,
     "metadata": {},
     "output_type": "execute_result"
    }
   ],
   "source": [
    "ra2 = np.random.randint(1, 7, size=(2, 3, 4, 5, 6))\n",
    "ra2"
   ]
  },
  {
   "cell_type": "code",
   "execution_count": 31,
   "id": "dd498f77-d9a6-4ef4-905b-96c0750aed45",
   "metadata": {},
   "outputs": [
    {
     "data": {
      "text/plain": [
       "(2, 3, 4, 5, 6)"
      ]
     },
     "execution_count": 31,
     "metadata": {},
     "output_type": "execute_result"
    }
   ],
   "source": [
    "ra2.shape"
   ]
  },
  {
   "cell_type": "code",
   "execution_count": 32,
   "id": "b78530d9-ec29-49d7-a318-0bf0119cf83b",
   "metadata": {},
   "outputs": [
    {
     "data": {
      "text/plain": [
       "array([[0.90452452, 0.33906398, 0.12965515],\n",
       "       [0.87826935, 0.31519103, 0.08333803],\n",
       "       [0.08106335, 0.10646793, 0.27884667],\n",
       "       [0.38188586, 0.37876445, 0.35044108],\n",
       "       [0.10517199, 0.5563217 , 0.54983005]])"
      ]
     },
     "execution_count": 32,
     "metadata": {},
     "output_type": "execute_result"
    }
   ],
   "source": [
    "random_array_3 = np.random.rand(5, 3)\n",
    "random_array_3"
   ]
  },
  {
   "cell_type": "code",
   "execution_count": 50,
   "id": "09ef0f78-ceba-40ca-9e5e-b3fe3888a584",
   "metadata": {},
   "outputs": [
    {
     "data": {
      "text/plain": [
       "array([[5, 0, 3],\n",
       "       [3, 7, 9],\n",
       "       [3, 5, 2],\n",
       "       [4, 7, 6],\n",
       "       [8, 8, 1]])"
      ]
     },
     "execution_count": 50,
     "metadata": {},
     "output_type": "execute_result"
    }
   ],
   "source": [
    "# Pseudo random numbers\n",
    "np.random.seed(seed=0)\n",
    "ran_arr_4 = np.random.randint(10, size=(5, 3))\n",
    "ran_arr_4"
   ]
  },
  {
   "cell_type": "markdown",
   "id": "fb3628cc-13b3-49d6-81d3-ad8f66b858a9",
   "metadata": {},
   "source": [
    "## 3. Viewing Arrays and Matrices"
   ]
  },
  {
   "cell_type": "code",
   "execution_count": 52,
   "id": "d1bb7456-96a1-4178-968f-4112b13ba144",
   "metadata": {},
   "outputs": [
    {
     "data": {
      "text/plain": [
       "(array([0, 1, 2, 3, 4, 5, 6, 7, 8, 9]),\n",
       " array([1, 1, 1, 3, 1, 2, 1, 2, 2, 1], dtype=int64))"
      ]
     },
     "execution_count": 52,
     "metadata": {},
     "output_type": "execute_result"
    }
   ],
   "source": [
    "np.unique(ran_arr_4, return_counts=True)"
   ]
  },
  {
   "cell_type": "code",
   "execution_count": 53,
   "id": "b1ad0168-22ab-4d8a-b7f7-4eade4bc8bde",
   "metadata": {},
   "outputs": [
    {
     "data": {
      "text/plain": [
       "tuple"
      ]
     },
     "execution_count": 53,
     "metadata": {},
     "output_type": "execute_result"
    }
   ],
   "source": [
    "type(np.unique(ran_arr_4, return_counts=True))"
   ]
  },
  {
   "cell_type": "code",
   "execution_count": 57,
   "id": "c7245f21-6641-43dd-bb35-db41bdd6540d",
   "metadata": {},
   "outputs": [
    {
     "data": {
      "text/plain": [
       "numpy.ndarray"
      ]
     },
     "execution_count": 57,
     "metadata": {},
     "output_type": "execute_result"
    }
   ],
   "source": [
    "type(np.unique(ran_arr_4, return_counts=True)[1])"
   ]
  },
  {
   "cell_type": "code",
   "execution_count": 58,
   "id": "64ab0029-68e5-412b-a22a-13044aa3671e",
   "metadata": {},
   "outputs": [
    {
     "data": {
      "text/plain": [
       "1"
      ]
     },
     "execution_count": 58,
     "metadata": {},
     "output_type": "execute_result"
    }
   ],
   "source": [
    "a1[0]"
   ]
  },
  {
   "cell_type": "code",
   "execution_count": 59,
   "id": "ff20f4af-b76a-4ffc-98c0-630e13759cd9",
   "metadata": {},
   "outputs": [
    {
     "data": {
      "text/plain": [
       "array([1. , 2. , 3.3])"
      ]
     },
     "execution_count": 59,
     "metadata": {},
     "output_type": "execute_result"
    }
   ],
   "source": [
    "a2[0]"
   ]
  },
  {
   "cell_type": "code",
   "execution_count": 60,
   "id": "222a86bf-8aaf-43f8-89a2-c78ae26bf4a5",
   "metadata": {},
   "outputs": [
    {
     "data": {
      "text/plain": [
       "array([[[ 1,  2],\n",
       "        [ 4,  5]],\n",
       "\n",
       "       [[10, 11],\n",
       "        [13, 14]]])"
      ]
     },
     "execution_count": 60,
     "metadata": {},
     "output_type": "execute_result"
    }
   ],
   "source": [
    "a3[:2, :2, :2]"
   ]
  },
  {
   "cell_type": "code",
   "execution_count": 64,
   "id": "8ecc66d9-9a29-4a6d-ae76-ca9559e6f204",
   "metadata": {},
   "outputs": [
    {
     "data": {
      "text/plain": [
       "array([[[ 1,  2,  3],\n",
       "        [ 4,  5,  6],\n",
       "        [ 7,  8,  9]],\n",
       "\n",
       "       [[10, 11, 12],\n",
       "        [13, 14, 15],\n",
       "        [16, 17, 18]]])"
      ]
     },
     "execution_count": 64,
     "metadata": {},
     "output_type": "execute_result"
    }
   ],
   "source": [
    "a3"
   ]
  },
  {
   "cell_type": "code",
   "execution_count": 65,
   "id": "77e8c38f-e7f0-4c6a-a5fb-cf5dce562aa5",
   "metadata": {},
   "outputs": [
    {
     "data": {
      "text/plain": [
       "array([1, 2, 3])"
      ]
     },
     "execution_count": 65,
     "metadata": {},
     "output_type": "execute_result"
    }
   ],
   "source": [
    "a3[0, 0]"
   ]
  },
  {
   "cell_type": "code",
   "execution_count": 66,
   "id": "bd98e325-1164-49b0-a903-a355b867766e",
   "metadata": {},
   "outputs": [
    {
     "data": {
      "text/plain": [
       "array([1, 2, 3])"
      ]
     },
     "execution_count": 66,
     "metadata": {},
     "output_type": "execute_result"
    }
   ],
   "source": [
    "a3[0][0]"
   ]
  },
  {
   "cell_type": "code",
   "execution_count": 62,
   "id": "097347d4-177d-40f5-bb58-0f60642ad58f",
   "metadata": {},
   "outputs": [
    {
     "data": {
      "text/plain": [
       "array([[[[6, 7, 7, 8, 1],\n",
       "         [5, 9, 8, 9, 4],\n",
       "         [3, 0, 3, 5, 0],\n",
       "         [2, 3, 8, 1, 3]],\n",
       "\n",
       "        [[3, 3, 7, 0, 1],\n",
       "         [9, 9, 0, 4, 7],\n",
       "         [3, 2, 7, 2, 0],\n",
       "         [0, 4, 5, 5, 6]],\n",
       "\n",
       "        [[8, 4, 1, 4, 9],\n",
       "         [8, 1, 1, 7, 9],\n",
       "         [9, 3, 6, 7, 2],\n",
       "         [0, 3, 5, 9, 4]]],\n",
       "\n",
       "\n",
       "       [[[4, 6, 4, 4, 3],\n",
       "         [4, 4, 8, 4, 3],\n",
       "         [7, 5, 5, 0, 1],\n",
       "         [5, 9, 3, 0, 5]],\n",
       "\n",
       "        [[0, 1, 2, 4, 2],\n",
       "         [0, 3, 2, 0, 7],\n",
       "         [5, 9, 0, 2, 7],\n",
       "         [2, 9, 2, 3, 3]],\n",
       "\n",
       "        [[2, 3, 4, 1, 2],\n",
       "         [9, 1, 4, 6, 8],\n",
       "         [2, 3, 0, 0, 6],\n",
       "         [0, 6, 3, 3, 8]]]])"
      ]
     },
     "execution_count": 62,
     "metadata": {},
     "output_type": "execute_result"
    }
   ],
   "source": [
    "a4 = np.random.randint(10, size=(2, 3, 4, 5))\n",
    "a4"
   ]
  },
  {
   "cell_type": "code",
   "execution_count": 68,
   "id": "822db23f-4fd6-4ed3-98b9-e703f727c32f",
   "metadata": {},
   "outputs": [
    {
     "data": {
      "text/plain": [
       "array([0, 1, 2, 4])"
      ]
     },
     "execution_count": 68,
     "metadata": {},
     "output_type": "execute_result"
    }
   ],
   "source": [
    "a4[1, 1, 0, :4]"
   ]
  },
  {
   "cell_type": "code",
   "execution_count": 71,
   "id": "1a2f70cd-a912-47f7-b151-961bb260d4b0",
   "metadata": {},
   "outputs": [
    {
     "data": {
      "text/plain": [
       "array([[[[6, 7, 7, 8],\n",
       "         [5, 9, 8, 9],\n",
       "         [3, 0, 3, 5],\n",
       "         [2, 3, 8, 1]],\n",
       "\n",
       "        [[3, 3, 7, 0],\n",
       "         [9, 9, 0, 4],\n",
       "         [3, 2, 7, 2],\n",
       "         [0, 4, 5, 5]],\n",
       "\n",
       "        [[8, 4, 1, 4],\n",
       "         [8, 1, 1, 7],\n",
       "         [9, 3, 6, 7],\n",
       "         [0, 3, 5, 9]]],\n",
       "\n",
       "\n",
       "       [[[4, 6, 4, 4],\n",
       "         [4, 4, 8, 4],\n",
       "         [7, 5, 5, 0],\n",
       "         [5, 9, 3, 0]],\n",
       "\n",
       "        [[0, 1, 2, 4],\n",
       "         [0, 3, 2, 0],\n",
       "         [5, 9, 0, 2],\n",
       "         [2, 9, 2, 3]],\n",
       "\n",
       "        [[2, 3, 4, 1],\n",
       "         [9, 1, 4, 6],\n",
       "         [2, 3, 0, 0],\n",
       "         [0, 6, 3, 3]]]])"
      ]
     },
     "execution_count": 71,
     "metadata": {},
     "output_type": "execute_result"
    }
   ],
   "source": [
    "# Get first four numbers of innermost arrays\n",
    "a4[:, :, :, :4]"
   ]
  },
  {
   "cell_type": "code",
   "execution_count": 91,
   "id": "5946f08e-c5c4-45e2-90f5-40451d07e4a0",
   "metadata": {},
   "outputs": [
    {
     "data": {
      "text/plain": [
       "array([0, 1, 3, 3, 6, 6, 7, 8, 9, 9])"
      ]
     },
     "execution_count": 91,
     "metadata": {},
     "output_type": "execute_result"
    }
   ],
   "source": [
    "a = np.random.randint(10, size=10)\n",
    "a.sort()\n",
    "a"
   ]
  },
  {
   "cell_type": "code",
   "execution_count": 95,
   "id": "ce4fcccb-7651-44a2-834e-16ad54a0f6cb",
   "metadata": {},
   "outputs": [
    {
     "data": {
      "text/plain": [
       "array([0, 1, 3, 3])"
      ]
     },
     "execution_count": 95,
     "metadata": {},
     "output_type": "execute_result"
    }
   ],
   "source": [
    "a[:4]"
   ]
  },
  {
   "cell_type": "code",
   "execution_count": 96,
   "id": "d5cf7e5f-9d91-41fd-9e6a-c6bd4eb32c60",
   "metadata": {},
   "outputs": [
    {
     "data": {
      "text/plain": [
       "array([3, 3])"
      ]
     },
     "execution_count": 96,
     "metadata": {},
     "output_type": "execute_result"
    }
   ],
   "source": [
    "a[2:4]"
   ]
  },
  {
   "cell_type": "code",
   "execution_count": 97,
   "id": "fffd0163-5a5c-4846-9214-4f76fecaf428",
   "metadata": {},
   "outputs": [
    {
     "data": {
      "text/plain": [
       "array([1, 6])"
      ]
     },
     "execution_count": 97,
     "metadata": {},
     "output_type": "execute_result"
    }
   ],
   "source": [
    "a[1:6:3]"
   ]
  },
  {
   "cell_type": "code",
   "execution_count": 98,
   "id": "66bb38a9-82b9-4c1e-aabd-8ede8dba4013",
   "metadata": {},
   "outputs": [
    {
     "data": {
      "text/plain": [
       "array([1, 6, 8])"
      ]
     },
     "execution_count": 98,
     "metadata": {},
     "output_type": "execute_result"
    }
   ],
   "source": [
    "a[1::3]"
   ]
  },
  {
   "cell_type": "code",
   "execution_count": 99,
   "id": "a00ffc7f-6024-4aaf-9b3c-ee5541083a8e",
   "metadata": {},
   "outputs": [
    {
     "data": {
      "text/plain": [
       "array([9])"
      ]
     },
     "execution_count": 99,
     "metadata": {},
     "output_type": "execute_result"
    }
   ],
   "source": [
    "a[-1:]"
   ]
  },
  {
   "cell_type": "code",
   "execution_count": 100,
   "id": "dbc7d52e-2d75-432d-bea4-fd95d286f439",
   "metadata": {},
   "outputs": [
    {
     "data": {
      "text/plain": [
       "array([7, 8, 9, 9])"
      ]
     },
     "execution_count": 100,
     "metadata": {},
     "output_type": "execute_result"
    }
   ],
   "source": [
    "a[-4:]"
   ]
  },
  {
   "cell_type": "code",
   "execution_count": 101,
   "id": "82925881-2b62-4b9e-8470-fbe12527f8ff",
   "metadata": {},
   "outputs": [
    {
     "data": {
      "text/plain": [
       "array([7, 8])"
      ]
     },
     "execution_count": 101,
     "metadata": {},
     "output_type": "execute_result"
    }
   ],
   "source": [
    "a[-4:8]"
   ]
  },
  {
   "cell_type": "code",
   "execution_count": 102,
   "id": "76ce679d-eb00-41db-8d81-ad1db2718df3",
   "metadata": {},
   "outputs": [
    {
     "data": {
      "text/plain": [
       "array([], dtype=int32)"
      ]
     },
     "execution_count": 102,
     "metadata": {},
     "output_type": "execute_result"
    }
   ],
   "source": [
    "a[-4:4]"
   ]
  },
  {
   "cell_type": "code",
   "execution_count": 103,
   "id": "7d928f60-243d-4b0a-920d-7c0749142e75",
   "metadata": {},
   "outputs": [
    {
     "data": {
      "text/plain": [
       "array([0, 1, 3, 3, 6, 6, 7, 8, 9, 9])"
      ]
     },
     "execution_count": 103,
     "metadata": {},
     "output_type": "execute_result"
    }
   ],
   "source": [
    "a[-16:]"
   ]
  },
  {
   "cell_type": "code",
   "execution_count": 104,
   "id": "20f4235b-4982-4d15-b870-25e2223e1699",
   "metadata": {},
   "outputs": [
    {
     "data": {
      "text/plain": [
       "array([0, 1, 3, 3, 6, 6, 7, 8, 9, 9])"
      ]
     },
     "execution_count": 104,
     "metadata": {},
     "output_type": "execute_result"
    }
   ],
   "source": [
    "a[-10:]"
   ]
  },
  {
   "cell_type": "code",
   "execution_count": 105,
   "id": "64949118-8af9-4c86-850a-a59933e0b31a",
   "metadata": {},
   "outputs": [
    {
     "data": {
      "text/plain": [
       "array([1, 3, 3, 6, 6, 7, 8, 9, 9])"
      ]
     },
     "execution_count": 105,
     "metadata": {},
     "output_type": "execute_result"
    }
   ],
   "source": [
    "a[-9:]"
   ]
  },
  {
   "cell_type": "code",
   "execution_count": 106,
   "id": "ecb1788e-46d3-4d14-8da7-c38ede1e9ea0",
   "metadata": {},
   "outputs": [
    {
     "data": {
      "text/plain": [
       "3"
      ]
     },
     "execution_count": 106,
     "metadata": {},
     "output_type": "execute_result"
    }
   ],
   "source": [
    "a[-8]"
   ]
  },
  {
   "cell_type": "markdown",
   "id": "9af65dec-24d0-4946-b67b-4dd89b2341e3",
   "metadata": {},
   "source": [
    "## 4. Manipulating and comparing arrays\n",
    "### Arithmetic"
   ]
  },
  {
   "cell_type": "code",
   "execution_count": 72,
   "id": "05146010-c965-40e0-98ce-62c4ef41ee68",
   "metadata": {},
   "outputs": [
    {
     "data": {
      "text/plain": [
       "array([[1., 1., 1.],\n",
       "       [1., 1., 1.]])"
      ]
     },
     "execution_count": 72,
     "metadata": {},
     "output_type": "execute_result"
    }
   ],
   "source": [
    "ones"
   ]
  },
  {
   "cell_type": "code",
   "execution_count": 73,
   "id": "0ade5db9-d030-41b8-b8dd-4c49985e0792",
   "metadata": {},
   "outputs": [
    {
     "data": {
      "text/plain": [
       "array([1, 2, 3])"
      ]
     },
     "execution_count": 73,
     "metadata": {},
     "output_type": "execute_result"
    }
   ],
   "source": [
    "a1"
   ]
  },
  {
   "cell_type": "code",
   "execution_count": 75,
   "id": "51bc9d3e-307e-4a7b-a890-12146e4d194e",
   "metadata": {},
   "outputs": [
    {
     "data": {
      "text/plain": [
       "array([[0., 1., 2.],\n",
       "       [0., 1., 2.]])"
      ]
     },
     "execution_count": 75,
     "metadata": {},
     "output_type": "execute_result"
    }
   ],
   "source": [
    "a1 - ones"
   ]
  },
  {
   "cell_type": "code",
   "execution_count": 76,
   "id": "2484db64-7bd4-4104-80af-e344239defed",
   "metadata": {},
   "outputs": [
    {
     "data": {
      "text/plain": [
       "array([[2., 3., 4.],\n",
       "       [2., 3., 4.]])"
      ]
     },
     "execution_count": 76,
     "metadata": {},
     "output_type": "execute_result"
    }
   ],
   "source": [
    "a1 + ones"
   ]
  },
  {
   "cell_type": "code",
   "execution_count": 79,
   "id": "0a030342-3af3-463d-b0de-af1b700a78f3",
   "metadata": {},
   "outputs": [
    {
     "data": {
      "text/plain": [
       "array([1, 2, 3])"
      ]
     },
     "execution_count": 79,
     "metadata": {},
     "output_type": "execute_result"
    }
   ],
   "source": [
    "a1"
   ]
  },
  {
   "cell_type": "code",
   "execution_count": 77,
   "id": "8fd0e334-fd5a-4838-9755-3d21a6a45cad",
   "metadata": {},
   "outputs": [
    {
     "data": {
      "text/plain": [
       "array([[1. , 2. , 3.3],\n",
       "       [4. , 5. , 6.3]])"
      ]
     },
     "execution_count": 77,
     "metadata": {},
     "output_type": "execute_result"
    }
   ],
   "source": [
    "a2"
   ]
  },
  {
   "cell_type": "code",
   "execution_count": 78,
   "id": "9d93037b-e30e-4629-a1ec-ea673f245054",
   "metadata": {},
   "outputs": [
    {
     "data": {
      "text/plain": [
       "array([[ 1. ,  4. ,  9.9],\n",
       "       [ 4. , 10. , 18.9]])"
      ]
     },
     "execution_count": 78,
     "metadata": {},
     "output_type": "execute_result"
    }
   ],
   "source": [
    "a1*a2"
   ]
  },
  {
   "cell_type": "code",
   "execution_count": 83,
   "id": "0aa36a89-89ac-4cfd-8bbe-dc48130bcac5",
   "metadata": {},
   "outputs": [
    {
     "data": {
      "text/plain": [
       "array([[1. , 2. , 3.3],\n",
       "       [4. , 5. , 6.3]])"
      ]
     },
     "execution_count": 83,
     "metadata": {},
     "output_type": "execute_result"
    }
   ],
   "source": [
    "a2"
   ]
  },
  {
   "cell_type": "code",
   "execution_count": 80,
   "id": "b52ace4d-aab9-44f9-a72e-2a44102f87ab",
   "metadata": {},
   "outputs": [
    {
     "data": {
      "text/plain": [
       "array([[[ 1,  2,  3],\n",
       "        [ 4,  5,  6],\n",
       "        [ 7,  8,  9]],\n",
       "\n",
       "       [[10, 11, 12],\n",
       "        [13, 14, 15],\n",
       "        [16, 17, 18]]])"
      ]
     },
     "execution_count": 80,
     "metadata": {},
     "output_type": "execute_result"
    }
   ],
   "source": [
    "a3"
   ]
  },
  {
   "cell_type": "code",
   "execution_count": 107,
   "id": "1d5419b4-55c3-4a25-b59d-5773d16ad5fb",
   "metadata": {},
   "outputs": [
    {
     "data": {
      "text/plain": [
       "array([[[ 1. ,  4. ,  9.9],\n",
       "        [16. , 25. , 37.8]],\n",
       "\n",
       "       [[10. , 22. , 39.6],\n",
       "        [52. , 70. , 94.5]]])"
      ]
     },
     "execution_count": 107,
     "metadata": {},
     "output_type": "execute_result"
    }
   ],
   "source": [
    "# Use slicing to make a2 * a3 possible\n",
    "a2*a3[:, :2]"
   ]
  },
  {
   "cell_type": "code",
   "execution_count": 108,
   "id": "9affb1f0-8ab4-41b6-92b0-5b4b1601aae0",
   "metadata": {},
   "outputs": [
    {
     "data": {
      "text/plain": [
       "array([[1. , 2. , 3.3],\n",
       "       [4. , 5. , 6.3]])"
      ]
     },
     "execution_count": 108,
     "metadata": {},
     "output_type": "execute_result"
    }
   ],
   "source": [
    "# How to reshape a2 to be compatible with a3?\n",
    "# Search \"How to reshape numpy array\"\n",
    "a2c = a2\n",
    "a2c"
   ]
  },
  {
   "cell_type": "code",
   "execution_count": 110,
   "id": "62b8b729-b87f-4db3-b680-112f232d2777",
   "metadata": {},
   "outputs": [
    {
     "data": {
      "text/plain": [
       "array([[1. , 2. ],\n",
       "       [3.3, 4. ],\n",
       "       [5. , 6.3]])"
      ]
     },
     "execution_count": 110,
     "metadata": {},
     "output_type": "execute_result"
    }
   ],
   "source": [
    "a2c.reshape((3, 2))"
   ]
  },
  {
   "cell_type": "code",
   "execution_count": 113,
   "id": "19337dde-d2cb-436b-afc1-9bc6985efd47",
   "metadata": {},
   "outputs": [
    {
     "data": {
      "text/plain": [
       "array([[1. , 1. , 1.1],\n",
       "       [4. , 2.5, 2.1]])"
      ]
     },
     "execution_count": 113,
     "metadata": {},
     "output_type": "execute_result"
    }
   ],
   "source": [
    "a2/a1"
   ]
  },
  {
   "cell_type": "code",
   "execution_count": 115,
   "id": "5d5ea6d3-65d4-48cf-98cc-ce75d3825ef6",
   "metadata": {},
   "outputs": [
    {
     "data": {
      "text/plain": [
       "array([[1., 1., 1.],\n",
       "       [4., 2., 2.]])"
      ]
     },
     "execution_count": 115,
     "metadata": {},
     "output_type": "execute_result"
    }
   ],
   "source": [
    "# Floor division // removes decimals.\n",
    "a2 // a1"
   ]
  },
  {
   "cell_type": "code",
   "execution_count": 117,
   "id": "b3e14aba-5ca9-46a0-b2dc-8f0880233dd4",
   "metadata": {},
   "outputs": [
    {
     "data": {
      "text/plain": [
       "array([[1. , 2. , 3.3],\n",
       "       [4. , 5. , 6.3]])"
      ]
     },
     "execution_count": 117,
     "metadata": {},
     "output_type": "execute_result"
    }
   ],
   "source": [
    "a2"
   ]
  },
  {
   "cell_type": "code",
   "execution_count": 116,
   "id": "5cb649af-b220-4bd5-99b2-e50360c068f9",
   "metadata": {},
   "outputs": [
    {
     "data": {
      "text/plain": [
       "array([[ 1.  ,  4.  , 10.89],\n",
       "       [16.  , 25.  , 39.69]])"
      ]
     },
     "execution_count": 116,
     "metadata": {},
     "output_type": "execute_result"
    }
   ],
   "source": [
    "a2 ** 2"
   ]
  },
  {
   "cell_type": "code",
   "execution_count": 118,
   "id": "3fbddfd5-68a0-42f7-a3a8-e8aae626092b",
   "metadata": {},
   "outputs": [
    {
     "data": {
      "text/plain": [
       "array([1, 0, 1], dtype=int32)"
      ]
     },
     "execution_count": 118,
     "metadata": {},
     "output_type": "execute_result"
    }
   ],
   "source": [
    "a1 % 2"
   ]
  },
  {
   "cell_type": "code",
   "execution_count": 119,
   "id": "45939ddb-e549-44da-855b-204f939685f0",
   "metadata": {},
   "outputs": [
    {
     "data": {
      "text/plain": [
       "array([[  2.71828183,   7.3890561 ,  27.11263892],\n",
       "       [ 54.59815003, 148.4131591 , 544.57191013]])"
      ]
     },
     "execution_count": 119,
     "metadata": {},
     "output_type": "execute_result"
    }
   ],
   "source": [
    "np.exp(a2)"
   ]
  },
  {
   "cell_type": "code",
   "execution_count": 121,
   "id": "a9330938-261e-4153-a12c-90a7d5fb70cc",
   "metadata": {},
   "outputs": [
    {
     "data": {
      "text/plain": [
       "False"
      ]
     },
     "execution_count": 121,
     "metadata": {},
     "output_type": "execute_result"
    }
   ],
   "source": [
    "np.isscalar(int)"
   ]
  },
  {
   "cell_type": "code",
   "execution_count": 123,
   "id": "83c0b787-8812-4777-bb83-f224323069d2",
   "metadata": {},
   "outputs": [
    {
     "data": {
      "text/plain": [
       "True"
      ]
     },
     "execution_count": 123,
     "metadata": {},
     "output_type": "execute_result"
    }
   ],
   "source": [
    "i = 3\n",
    "np.isscalar(i)"
   ]
  },
  {
   "cell_type": "code",
   "execution_count": 125,
   "id": "21b29063-6343-48b8-baa0-8f4cd4d410c4",
   "metadata": {},
   "outputs": [
    {
     "data": {
      "text/plain": [
       "array([[0.        , 0.69314718, 1.19392247],\n",
       "       [1.38629436, 1.60943791, 1.84054963]])"
      ]
     },
     "execution_count": 125,
     "metadata": {},
     "output_type": "execute_result"
    }
   ],
   "source": [
    "np.log(a2)"
   ]
  },
  {
   "cell_type": "markdown",
   "id": "af367829-adf0-405e-9dec-f7a13b503e3c",
   "metadata": {},
   "source": [
    "### Aggregation\n",
    "Aggregation = performing the same calculation on a number of things"
   ]
  },
  {
   "cell_type": "code",
   "execution_count": 127,
   "id": "7c9db9c0-3d73-49e3-94f1-61de5624d17e",
   "metadata": {},
   "outputs": [
    {
     "data": {
      "text/plain": [
       "list"
      ]
     },
     "execution_count": 127,
     "metadata": {},
     "output_type": "execute_result"
    }
   ],
   "source": [
    "listy_list = [1, 2, 3]\n",
    "type(listy_list)"
   ]
  },
  {
   "cell_type": "code",
   "execution_count": 129,
   "id": "807a17ca-9e9b-4ffc-b1d5-8dc51f7fe1a9",
   "metadata": {},
   "outputs": [
    {
     "data": {
      "text/plain": [
       "6"
      ]
     },
     "execution_count": 129,
     "metadata": {},
     "output_type": "execute_result"
    }
   ],
   "source": [
    "# Python example of aggregation\n",
    "sum(listy_list)"
   ]
  },
  {
   "cell_type": "code",
   "execution_count": 130,
   "id": "5c8845c4-de89-4ce6-8d3b-24c1d25e1756",
   "metadata": {},
   "outputs": [
    {
     "data": {
      "text/plain": [
       "array([1, 2, 3])"
      ]
     },
     "execution_count": 130,
     "metadata": {},
     "output_type": "execute_result"
    }
   ],
   "source": [
    "# NumPy has its own versions of aggregation operations.\n",
    "a1"
   ]
  },
  {
   "cell_type": "code",
   "execution_count": 131,
   "id": "da4fd057-ba34-4269-a951-025420d4c575",
   "metadata": {},
   "outputs": [
    {
     "data": {
      "text/plain": [
       "6"
      ]
     },
     "execution_count": 131,
     "metadata": {},
     "output_type": "execute_result"
    }
   ],
   "source": [
    "a1.sum()"
   ]
  },
  {
   "cell_type": "code",
   "execution_count": 132,
   "id": "1a20c48c-0020-44b4-b5fc-4f0da1d9a3c1",
   "metadata": {},
   "outputs": [
    {
     "data": {
      "text/plain": [
       "6"
      ]
     },
     "execution_count": 132,
     "metadata": {},
     "output_type": "execute_result"
    }
   ],
   "source": [
    "np.sum(a1)"
   ]
  },
  {
   "cell_type": "markdown",
   "id": "ccf70fc6-7ab1-4a39-92a9-c51cd4731c26",
   "metadata": {},
   "source": [
    "^ both np and python's sum work\n",
    "Rule of thumb: Use Python's methods (`sum()`) on Python datatypes, and use NumPy's methods(`np.sum()`) on NumPy ndarrays."
   ]
  },
  {
   "cell_type": "code",
   "execution_count": 133,
   "id": "ae0698aa-ef5d-4c76-92c5-b720849789c5",
   "metadata": {},
   "outputs": [
    {
     "data": {
      "text/plain": [
       "array([0.56157728, 0.39966001, 0.53086013, 0.08523306, 0.66567773,\n",
       "       0.02963482, 0.88928732, 0.68211896, 0.89131435, 0.00120757,\n",
       "       0.93721883, 0.95830736, 0.79631941, 0.99207384, 0.3552252 ,\n",
       "       0.84834015, 0.7706745 , 0.72052752, 0.63341482, 0.30737612,\n",
       "       0.53727903, 0.27457505, 0.00868992, 0.02494472, 0.1442861 ,\n",
       "       0.51375973, 0.22265793, 0.36948969, 0.05510728, 0.91119716,\n",
       "       0.88495189, 0.89727707, 0.33219089, 0.71292685, 0.42694341,\n",
       "       0.30169247, 0.07041083, 0.42184452, 0.3883196 , 0.16039354,\n",
       "       0.35020726, 0.09561988, 0.87110253, 0.66759331, 0.19271798,\n",
       "       0.91809195, 0.57968089, 0.45589844, 0.64235175, 0.25402523,\n",
       "       0.55107915, 0.13190325, 0.20051601, 0.51405447, 0.09749338,\n",
       "       0.8518537 , 0.39554383, 0.23307782, 0.58543207, 0.74683637,\n",
       "       0.60898861, 0.57901121, 0.17009964, 0.68636205, 0.9768018 ,\n",
       "       0.60859331, 0.32837895, 0.80269214, 0.83636403, 0.41527995,\n",
       "       0.41560826, 0.93661711, 0.72218402, 0.03290133, 0.42594595,\n",
       "       0.09389447, 0.97854755, 0.57521247, 0.64367809, 0.36446268,\n",
       "       0.66771489, 0.57184364, 0.77468348, 0.90010213, 0.40430653,\n",
       "       0.89534511, 0.06508248, 0.68547738, 0.23107005, 0.5388685 ,\n",
       "       0.77303498, 0.74658429, 0.72143011, 0.48289162, 0.19402282,\n",
       "       0.20556632, 0.53546826, 0.43781425, 0.97498981, 0.30082393])"
      ]
     },
     "execution_count": 133,
     "metadata": {},
     "output_type": "execute_result"
    }
   ],
   "source": [
    "massive_array = np.random.random(100000)\n",
    "massive_array[:100]"
   ]
  },
  {
   "cell_type": "code",
   "execution_count": 134,
   "id": "e10301f1-385a-4056-a551-5850db43dbbd",
   "metadata": {},
   "outputs": [
    {
     "name": "stdout",
     "output_type": "stream",
     "text": [
      "6.96 ms ± 333 µs per loop (mean ± std. dev. of 7 runs, 100 loops each)\n",
      "37.4 µs ± 265 ns per loop (mean ± std. dev. of 7 runs, 10,000 loops each)\n"
     ]
    }
   ],
   "source": [
    "# jupyter has \"magic\" functions that start with the % symbol\n",
    "%timeit sum(massive_array) # time for Python's sum()\n",
    "%timeit np.sum(massive_array) # time for NumPy's sum()"
   ]
  },
  {
   "cell_type": "code",
   "execution_count": 136,
   "id": "7a931992-8f83-4d9c-b899-2cd8eaea4da8",
   "metadata": {},
   "outputs": [
    {
     "data": {
      "text/plain": [
       "186.09625668449198"
      ]
     },
     "execution_count": 136,
     "metadata": {},
     "output_type": "execute_result"
    }
   ],
   "source": [
    "6960 / 37.4"
   ]
  },
  {
   "cell_type": "code",
   "execution_count": 137,
   "id": "adb5e9f3-168e-4e63-ac9e-a20d06403a19",
   "metadata": {},
   "outputs": [],
   "source": [
    "# ^ NumPy is 186 times faster"
   ]
  },
  {
   "cell_type": "code",
   "execution_count": 138,
   "id": "08518f9d-f6aa-443d-9c73-99af6453cec4",
   "metadata": {},
   "outputs": [
    {
     "data": {
      "text/plain": [
       "array([[1. , 2. , 3.3],\n",
       "       [4. , 5. , 6.3]])"
      ]
     },
     "execution_count": 138,
     "metadata": {},
     "output_type": "execute_result"
    }
   ],
   "source": [
    "a2"
   ]
  },
  {
   "cell_type": "code",
   "execution_count": 139,
   "id": "ca39275e-e7c0-413f-a12d-7451f7db8e69",
   "metadata": {},
   "outputs": [
    {
     "data": {
      "text/plain": [
       "3.6"
      ]
     },
     "execution_count": 139,
     "metadata": {},
     "output_type": "execute_result"
    }
   ],
   "source": [
    "np.mean(a2)"
   ]
  },
  {
   "cell_type": "code",
   "execution_count": 140,
   "id": "5bb1c288-7867-4b2f-970d-b1df31792e7d",
   "metadata": {},
   "outputs": [
    {
     "data": {
      "text/plain": [
       "6.3"
      ]
     },
     "execution_count": 140,
     "metadata": {},
     "output_type": "execute_result"
    }
   ],
   "source": [
    "np.max(a2)"
   ]
  },
  {
   "cell_type": "code",
   "execution_count": 141,
   "id": "1d0683d8-5aa1-4949-9da9-3c843361322a",
   "metadata": {},
   "outputs": [
    {
     "data": {
      "text/plain": [
       "1.0"
      ]
     },
     "execution_count": 141,
     "metadata": {},
     "output_type": "execute_result"
    }
   ],
   "source": [
    "np.min(a2)"
   ]
  },
  {
   "cell_type": "code",
   "execution_count": 146,
   "id": "e8261e87-ffdf-42f3-934d-129be4bf74d5",
   "metadata": {},
   "outputs": [
    {
     "data": {
      "text/plain": [
       "1.7710637105046974"
      ]
     },
     "execution_count": 146,
     "metadata": {},
     "output_type": "execute_result"
    }
   ],
   "source": [
    "# standard deviation = a measure of how spread out a group of numbers is from the mean\n",
    "np.std(a2)"
   ]
  },
  {
   "cell_type": "code",
   "execution_count": 145,
   "id": "93f706f8-fa6b-42c0-82bf-2fb9488d7cc2",
   "metadata": {},
   "outputs": [
    {
     "data": {
      "text/plain": [
       "3.1366666666666663"
      ]
     },
     "execution_count": 145,
     "metadata": {},
     "output_type": "execute_result"
    }
   ],
   "source": [
    "# variance\n",
    "# variance = measure of the average degree to which each element is different from the mean\n",
    "# higher variance = wider range of numbers\n",
    "# lower variance = lower range of numbers\n",
    "np.var(a2)"
   ]
  },
  {
   "cell_type": "code",
   "execution_count": 147,
   "id": "633e8cd2-b7f4-4e5a-abfe-129988253b59",
   "metadata": {},
   "outputs": [
    {
     "data": {
      "text/plain": [
       "1.7710637105046974"
      ]
     },
     "execution_count": 147,
     "metadata": {},
     "output_type": "execute_result"
    }
   ],
   "source": [
    "# standard deviation = square root of variance\n",
    "np.sqrt(np.var(a2))"
   ]
  },
  {
   "cell_type": "code",
   "execution_count": 148,
   "id": "8b9561d4-6e7e-4f7a-9a08-03825079448d",
   "metadata": {},
   "outputs": [],
   "source": [
    "# Demo of std and var\n",
    "high_var_array = np.array([1, 100, 200, 300, 4000, 5000])\n",
    "low_var_array = np.array([2, 4, 6, 8, 10])"
   ]
  },
  {
   "cell_type": "code",
   "execution_count": 149,
   "id": "ed90906d-9c09-4308-8082-cd9d6a43a183",
   "metadata": {},
   "outputs": [
    {
     "data": {
      "text/plain": [
       "(4296133.472222221, 8.0)"
      ]
     },
     "execution_count": 149,
     "metadata": {},
     "output_type": "execute_result"
    }
   ],
   "source": [
    "np.var(high_var_array), np.var(low_var_array)"
   ]
  },
  {
   "cell_type": "code",
   "execution_count": 150,
   "id": "750fbc81-4648-4880-affa-186e6b33f228",
   "metadata": {},
   "outputs": [
    {
     "data": {
      "text/plain": [
       "(2072.711623024829, 2.8284271247461903)"
      ]
     },
     "execution_count": 150,
     "metadata": {},
     "output_type": "execute_result"
    }
   ],
   "source": [
    "np.std(high_var_array), np.std(low_var_array)"
   ]
  },
  {
   "cell_type": "code",
   "execution_count": 151,
   "id": "9af024be-9548-430f-959f-9bb2a3c3e7de",
   "metadata": {},
   "outputs": [
    {
     "data": {
      "text/plain": [
       "(1600.1666666666667, 6.0)"
      ]
     },
     "execution_count": 151,
     "metadata": {},
     "output_type": "execute_result"
    }
   ],
   "source": [
    "np.mean(high_var_array), np.mean(low_var_array)"
   ]
  },
  {
   "cell_type": "code",
   "execution_count": 153,
   "id": "468f1678-d87b-4e5d-9ac4-3f13bbc79953",
   "metadata": {},
   "outputs": [
    {
     "data": {
      "image/png": "[encoded data removed]",
      "text/plain": [
       "<Figure size 640x480 with 1 Axes>"
      ]
     },
     "metadata": {},
     "output_type": "display_data"
    }
   ],
   "source": [
    "%matplotlib inline\n",
    "import matplotlib.pyplot as plt\n",
    "plt.hist(high_var_array)\n",
    "plt.show()"
   ]
  },
  {
   "cell_type": "code",
   "execution_count": 154,
   "id": "1ca762ce-6338-4fbd-b05b-4f69616cb475",
   "metadata": {},
   "outputs": [
    {
     "data": {
      "image/png": "[encoded data removed]",
      "text/plain": [
       "<Figure size 640x480 with 1 Axes>"
      ]
     },
     "metadata": {},
     "output_type": "display_data"
    }
   ],
   "source": [
    "plt.hist(low_var_array)\n",
    "plt.show()"
   ]
  },
  {
   "cell_type": "markdown",
   "id": "184a0a97-cf4e-4771-a1af-baf8e79f36fb",
   "metadata": {},
   "source": [
    "### Reshaping and transposing"
   ]
  },
  {
   "cell_type": "code",
   "execution_count": 156,
   "id": "3a2e34be-0271-4fe4-9ff0-fafb97a17a94",
   "metadata": {},
   "outputs": [
    {
     "data": {
      "text/plain": [
       "array([[1. , 2. , 3.3],\n",
       "       [4. , 5. , 6.3]])"
      ]
     },
     "execution_count": 156,
     "metadata": {},
     "output_type": "execute_result"
    }
   ],
   "source": [
    "a2"
   ]
  },
  {
   "cell_type": "code",
   "execution_count": 157,
   "id": "9e8d03a0-cbaa-42da-87f2-fe59d486cced",
   "metadata": {},
   "outputs": [
    {
     "data": {
      "text/plain": [
       "array([[[ 1,  2,  3],\n",
       "        [ 4,  5,  6],\n",
       "        [ 7,  8,  9]],\n",
       "\n",
       "       [[10, 11, 12],\n",
       "        [13, 14, 15],\n",
       "        [16, 17, 18]]])"
      ]
     },
     "execution_count": 157,
     "metadata": {},
     "output_type": "execute_result"
    }
   ],
   "source": [
    "a3"
   ]
  },
  {
   "cell_type": "code",
   "execution_count": 158,
   "id": "9ec8a218-f9c8-49f6-beba-24cf5c30dbce",
   "metadata": {},
   "outputs": [
    {
     "data": {
      "text/plain": [
       "((2, 3), (2, 3, 3))"
      ]
     },
     "execution_count": 158,
     "metadata": {},
     "output_type": "execute_result"
    }
   ],
   "source": [
    "a2.shape, a3.shape"
   ]
  },
  {
   "cell_type": "code",
   "execution_count": 159,
   "id": "4c56f5ec-f15f-4e08-a808-5ad7433b7e7f",
   "metadata": {},
   "outputs": [
    {
     "ename": "ValueError",
     "evalue": "operands could not be broadcast together with shapes (2,3) (2,3,3) ",
     "output_type": "error",
     "traceback": [
      "\u001b[1;31m---------------------------------------------------------------------------\u001b[0m",
      "\u001b[1;31mValueError\u001b[0m                                Traceback (most recent call last)",
      "Cell \u001b[1;32mIn[159], line 1\u001b[0m\n\u001b[1;32m----> 1\u001b[0m \u001b[43ma2\u001b[49m\u001b[43m \u001b[49m\u001b[38;5;241;43m*\u001b[39;49m\u001b[43m \u001b[49m\u001b[43ma3\u001b[49m\n",
      "\u001b[1;31mValueError\u001b[0m: operands could not be broadcast together with shapes (2,3) (2,3,3) "
     ]
    }
   ],
   "source": [
    "a2 * a3"
   ]
  },
  {
   "cell_type": "code",
   "execution_count": 160,
   "id": "3708d37f-0800-40c1-941e-b25caab31aae",
   "metadata": {},
   "outputs": [
    {
     "data": {
      "text/plain": [
       "(2, 3, 1)"
      ]
     },
     "execution_count": 160,
     "metadata": {},
     "output_type": "execute_result"
    }
   ],
   "source": [
    "# Per NumPy documentation on broadcasting, the general rule is that shapes are compatible if\n",
    "# 1. they are equal, or\n",
    "# 2. one of them is 1\n",
    "a2.reshape(2, 3, 1).shape"
   ]
  },
  {
   "cell_type": "code",
   "execution_count": 161,
   "id": "1f5d7870-dee6-48fd-814f-1f4ba507fb7a",
   "metadata": {},
   "outputs": [
    {
     "data": {
      "text/plain": [
       "array([[1. , 2. , 3.3],\n",
       "       [4. , 5. , 6.3]])"
      ]
     },
     "execution_count": 161,
     "metadata": {},
     "output_type": "execute_result"
    }
   ],
   "source": [
    "a2"
   ]
  },
  {
   "cell_type": "code",
   "execution_count": 163,
   "id": "18fd59bf-737c-49f8-b6b3-66fe5b7b415d",
   "metadata": {},
   "outputs": [
    {
     "data": {
      "text/plain": [
       "array([[[1. ],\n",
       "        [2. ],\n",
       "        [3.3]],\n",
       "\n",
       "       [[4. ],\n",
       "        [5. ],\n",
       "        [6.3]]])"
      ]
     },
     "execution_count": 163,
     "metadata": {},
     "output_type": "execute_result"
    }
   ],
   "source": [
    "a2_reshape = a2.reshape(2, 3, 1)\n",
    "a2_reshape"
   ]
  },
  {
   "cell_type": "code",
   "execution_count": 164,
   "id": "db202919-63ce-4507-a0ec-c86f29e744e3",
   "metadata": {},
   "outputs": [
    {
     "data": {
      "text/plain": [
       "array([[[  1. ,   2. ,   3. ],\n",
       "        [  8. ,  10. ,  12. ],\n",
       "        [ 23.1,  26.4,  29.7]],\n",
       "\n",
       "       [[ 40. ,  44. ,  48. ],\n",
       "        [ 65. ,  70. ,  75. ],\n",
       "        [100.8, 107.1, 113.4]]])"
      ]
     },
     "execution_count": 164,
     "metadata": {},
     "output_type": "execute_result"
    }
   ],
   "source": [
    "a2_reshape * a3"
   ]
  },
  {
   "cell_type": "code",
   "execution_count": 165,
   "id": "b2e215e1-354f-47ae-ba21-682a680f5ca3",
   "metadata": {},
   "outputs": [
    {
     "data": {
      "text/plain": [
       "(2, 3)"
      ]
     },
     "execution_count": 165,
     "metadata": {},
     "output_type": "execute_result"
    }
   ],
   "source": [
    "a2.shape"
   ]
  },
  {
   "cell_type": "code",
   "execution_count": 169,
   "id": "82ed31fb-a800-4d5c-836e-918451383d58",
   "metadata": {},
   "outputs": [
    {
     "data": {
      "text/plain": [
       "array([[1. , 4. ],\n",
       "       [2. , 5. ],\n",
       "       [3.3, 6.3]])"
      ]
     },
     "execution_count": 169,
     "metadata": {},
     "output_type": "execute_result"
    }
   ],
   "source": [
    "# Transpose switches the axes\n",
    "a2.T"
   ]
  },
  {
   "cell_type": "code",
   "execution_count": 167,
   "id": "60f2719b-f121-487c-86d6-ddbfa2c32a83",
   "metadata": {},
   "outputs": [
    {
     "data": {
      "text/plain": [
       "array([[1. , 2. , 3.3],\n",
       "       [4. , 5. , 6.3]])"
      ]
     },
     "execution_count": 167,
     "metadata": {},
     "output_type": "execute_result"
    }
   ],
   "source": [
    "a2"
   ]
  },
  {
   "cell_type": "code",
   "execution_count": 168,
   "id": "e97616b9-9608-4917-a5b4-8b48c6604e76",
   "metadata": {},
   "outputs": [
    {
     "data": {
      "text/plain": [
       "(3, 2)"
      ]
     },
     "execution_count": 168,
     "metadata": {},
     "output_type": "execute_result"
    }
   ],
   "source": [
    "a2.T.shape"
   ]
  },
  {
   "cell_type": "code",
   "execution_count": 171,
   "id": "2d43b295-a963-49b8-97b1-a3726f16897a",
   "metadata": {},
   "outputs": [
    {
     "data": {
      "text/plain": [
       "(array([[[ 1,  2,  3],\n",
       "         [ 4,  5,  6],\n",
       "         [ 7,  8,  9]],\n",
       " \n",
       "        [[10, 11, 12],\n",
       "         [13, 14, 15],\n",
       "         [16, 17, 18]]]),\n",
       " (2, 3, 3))"
      ]
     },
     "execution_count": 171,
     "metadata": {},
     "output_type": "execute_result"
    }
   ],
   "source": [
    "a3, a3.shape"
   ]
  },
  {
   "cell_type": "code",
   "execution_count": 172,
   "id": "22b72ae2-0f5f-4396-9c96-5c78eaa38021",
   "metadata": {},
   "outputs": [
    {
     "data": {
      "text/plain": [
       "array([[[ 1, 10],\n",
       "        [ 4, 13],\n",
       "        [ 7, 16]],\n",
       "\n",
       "       [[ 2, 11],\n",
       "        [ 5, 14],\n",
       "        [ 8, 17]],\n",
       "\n",
       "       [[ 3, 12],\n",
       "        [ 6, 15],\n",
       "        [ 9, 18]]])"
      ]
     },
     "execution_count": 172,
     "metadata": {},
     "output_type": "execute_result"
    }
   ],
   "source": [
    "a3.T"
   ]
  },
  {
   "cell_type": "markdown",
   "id": "e4f14e8c-ef8e-4fb6-abf0-5c609cbf042e",
   "metadata": {},
   "source": [
    "## Dot Product\n",
    "--> One of the main use-cases for transposing"
   ]
  },
  {
   "cell_type": "code",
   "execution_count": 175,
   "id": "29b6c519-0104-48b0-accf-babf51864eea",
   "metadata": {},
   "outputs": [
    {
     "data": {
      "text/plain": [
       "array([[5, 0, 3],\n",
       "       [3, 7, 9],\n",
       "       [3, 5, 2],\n",
       "       [4, 7, 6],\n",
       "       [8, 8, 1]])"
      ]
     },
     "execution_count": 175,
     "metadata": {},
     "output_type": "execute_result"
    }
   ],
   "source": [
    "np.random.seed(0)\n",
    "\n",
    "mat1 = np.random.randint(10, size=(5, 3))\n",
    "mat2 = np.random.randint(10, size=(5, 3))\n",
    "mat1"
   ]
  },
  {
   "cell_type": "code",
   "execution_count": 176,
   "id": "889d8498-1b62-4760-90f0-8ef97c879031",
   "metadata": {},
   "outputs": [
    {
     "data": {
      "text/plain": [
       "array([[6, 7, 7],\n",
       "       [8, 1, 5],\n",
       "       [9, 8, 9],\n",
       "       [4, 3, 0],\n",
       "       [3, 5, 0]])"
      ]
     },
     "execution_count": 176,
     "metadata": {},
     "output_type": "execute_result"
    }
   ],
   "source": [
    "mat2"
   ]
  },
  {
   "cell_type": "code",
   "execution_count": 178,
   "id": "444a9396-87d1-42e8-a1d9-fa716751f296",
   "metadata": {},
   "outputs": [
    {
     "data": {
      "text/plain": [
       "array([[30,  0, 21],\n",
       "       [24,  7, 45],\n",
       "       [27, 40, 18],\n",
       "       [16, 21,  0],\n",
       "       [24, 40,  0]])"
      ]
     },
     "execution_count": 178,
     "metadata": {},
     "output_type": "execute_result"
    }
   ],
   "source": [
    "# Element-wise multiplication (Hadamard Product)\n",
    "mat1*mat2"
   ]
  },
  {
   "cell_type": "code",
   "execution_count": 180,
   "id": "3d2723b4-dcbe-4da1-86c1-eafcd9504c98",
   "metadata": {},
   "outputs": [
    {
     "ename": "ValueError",
     "evalue": "shapes (5,3) and (5,3) not aligned: 3 (dim 1) != 5 (dim 0)",
     "output_type": "error",
     "traceback": [
      "\u001b[1;31m---------------------------------------------------------------------------\u001b[0m",
      "\u001b[1;31mValueError\u001b[0m                                Traceback (most recent call last)",
      "Cell \u001b[1;32mIn[180], line 2\u001b[0m\n\u001b[0;32m      1\u001b[0m \u001b[38;5;66;03m# Dot Product\u001b[39;00m\n\u001b[1;32m----> 2\u001b[0m \u001b[43mnp\u001b[49m\u001b[38;5;241;43m.\u001b[39;49m\u001b[43mdot\u001b[49m\u001b[43m(\u001b[49m\u001b[43mmat1\u001b[49m\u001b[43m,\u001b[49m\u001b[43m \u001b[49m\u001b[43mmat2\u001b[49m\u001b[43m)\u001b[49m\n",
      "\u001b[1;31mValueError\u001b[0m: shapes (5,3) and (5,3) not aligned: 3 (dim 1) != 5 (dim 0)"
     ]
    }
   ],
   "source": [
    "# Dot Product\n",
    "np.dot(mat1, mat2)"
   ]
  },
  {
   "cell_type": "code",
   "execution_count": 181,
   "id": "6407957a-9b4c-47ad-997f-2afca483e930",
   "metadata": {},
   "outputs": [
    {
     "data": {
      "text/plain": [
       "((5, 3), (5, 3))"
      ]
     },
     "execution_count": 181,
     "metadata": {},
     "output_type": "execute_result"
    }
   ],
   "source": [
    "mat1.shape, mat2.shape"
   ]
  },
  {
   "cell_type": "code",
   "execution_count": 182,
   "id": "96f88659-7920-454c-8002-f66450c8250d",
   "metadata": {},
   "outputs": [
    {
     "data": {
      "text/plain": [
       "(3, 5)"
      ]
     },
     "execution_count": 182,
     "metadata": {},
     "output_type": "execute_result"
    }
   ],
   "source": [
    "# Transpose mat1 to allow dot product\n",
    "mat1.T.shape"
   ]
  },
  {
   "cell_type": "code",
   "execution_count": 183,
   "id": "58492160-a1f9-439f-a944-50afb93a20f8",
   "metadata": {},
   "outputs": [
    {
     "data": {
      "text/plain": [
       "array([[121, 114,  77],\n",
       "       [153, 108,  80],\n",
       "       [135,  69,  84]])"
      ]
     },
     "execution_count": 183,
     "metadata": {},
     "output_type": "execute_result"
    }
   ],
   "source": [
    "np.dot(mat1.T, mat2)"
   ]
  },
  {
   "cell_type": "code",
   "execution_count": 184,
   "id": "b1d63b98-a9f2-438c-8ba8-4c176ca82390",
   "metadata": {},
   "outputs": [
    {
     "data": {
      "text/plain": [
       "array([[ 51, 130,  67, 115, 111],\n",
       "       [ 55,  76,  39,  69,  77],\n",
       "       [ 72, 164,  85, 146, 145],\n",
       "       [ 20,  33,  27,  37,  56],\n",
       "       [ 15,  44,  34,  47,  64]])"
      ]
     },
     "execution_count": 184,
     "metadata": {},
     "output_type": "execute_result"
    }
   ],
   "source": [
    "np.dot(mat2, mat1.T)"
   ]
  },
  {
   "cell_type": "markdown",
   "id": "8512a02e-0aa4-447c-ae93-3f84e045cbc9",
   "metadata": {},
   "source": [
    "## Dot Product Example (nut butter sales)"
   ]
  },
  {
   "cell_type": "code",
   "execution_count": 185,
   "id": "4aa4f71a-33b4-41ce-948d-0d860fba19be",
   "metadata": {},
   "outputs": [
    {
     "data": {
      "text/plain": [
       "array([[12, 15,  0],\n",
       "       [ 3,  3,  7],\n",
       "       [ 9, 19, 18],\n",
       "       [ 4,  6, 12],\n",
       "       [ 1,  6,  7]])"
      ]
     },
     "execution_count": 185,
     "metadata": {},
     "output_type": "execute_result"
    }
   ],
   "source": [
    "np.random.seed(0)\n",
    "# Number of jars sold\n",
    "sales_amounts = np.random.randint(20, size=(5, 3))\n",
    "sales_amounts"
   ]
  },
  {
   "cell_type": "code",
   "execution_count": 189,
   "id": "a49c6459-de59-427c-b5a5-6f34b49638a7",
   "metadata": {},
   "outputs": [
    {
     "data": {
      "text/html": [
       "<div>\n",
       "<style scoped>\n",
       "    .dataframe tbody tr th:only-of-type {\n",
       "        vertical-align: middle;\n",
       "    }\n",
       "\n",
       "    .dataframe tbody tr th {\n",
       "        vertical-align: top;\n",
       "    }\n",
       "\n",
       "    .dataframe thead th {\n",
       "        text-align: right;\n",
       "    }\n",
       "</style>\n",
       "<table border=\"1\" class=\"dataframe\">\n",
       "  <thead>\n",
       "    <tr style=\"text-align: right;\">\n",
       "      <th></th>\n",
       "      <th>Amond butter</th>\n",
       "      <th>Peanut butter</th>\n",
       "      <th>Cashew butter</th>\n",
       "    </tr>\n",
       "  </thead>\n",
       "  <tbody>\n",
       "    <tr>\n",
       "      <th>Mon</th>\n",
       "      <td>12</td>\n",
       "      <td>15</td>\n",
       "      <td>0</td>\n",
       "    </tr>\n",
       "    <tr>\n",
       "      <th>Tue</th>\n",
       "      <td>3</td>\n",
       "      <td>3</td>\n",
       "      <td>7</td>\n",
       "    </tr>\n",
       "    <tr>\n",
       "      <th>Wed</th>\n",
       "      <td>9</td>\n",
       "      <td>19</td>\n",
       "      <td>18</td>\n",
       "    </tr>\n",
       "    <tr>\n",
       "      <th>Thu</th>\n",
       "      <td>4</td>\n",
       "      <td>6</td>\n",
       "      <td>12</td>\n",
       "    </tr>\n",
       "    <tr>\n",
       "      <th>Fri</th>\n",
       "      <td>1</td>\n",
       "      <td>6</td>\n",
       "      <td>7</td>\n",
       "    </tr>\n",
       "  </tbody>\n",
       "</table>\n",
       "</div>"
      ],
      "text/plain": [
       "     Amond butter  Peanut butter  Cashew butter\n",
       "Mon            12             15              0\n",
       "Tue             3              3              7\n",
       "Wed             9             19             18\n",
       "Thu             4              6             12\n",
       "Fri             1              6              7"
      ]
     },
     "execution_count": 189,
     "metadata": {},
     "output_type": "execute_result"
    }
   ],
   "source": [
    "# Create Sales DataFrame\n",
    "weekly_sales = pd.DataFrame(sales_amounts,\n",
    "                            index=[\"Mon\", \"Tue\", \"Wed\", \"Thu\", \"Fri\"],\n",
    "                            columns=[\"Amond butter\", \"Peanut butter\", \"Cashew butter\"])\n",
    "weekly_sales"
   ]
  },
  {
   "cell_type": "code",
   "execution_count": 188,
   "id": "8e3a3222-dcdb-4633-9dea-4e922b0c182d",
   "metadata": {},
   "outputs": [
    {
     "data": {
      "text/plain": [
       "array([10,  8, 12])"
      ]
     },
     "execution_count": 188,
     "metadata": {},
     "output_type": "execute_result"
    }
   ],
   "source": [
    "# Create prices array\n",
    "prices = np.array([10, 8, 12])\n",
    "prices"
   ]
  },
  {
   "cell_type": "code",
   "execution_count": 193,
   "id": "7a15eaa7-763e-4788-8a61-3cfb32e16fcd",
   "metadata": {},
   "outputs": [
    {
     "data": {
      "text/html": [
       "<div>\n",
       "<style scoped>\n",
       "    .dataframe tbody tr th:only-of-type {\n",
       "        vertical-align: middle;\n",
       "    }\n",
       "\n",
       "    .dataframe tbody tr th {\n",
       "        vertical-align: top;\n",
       "    }\n",
       "\n",
       "    .dataframe thead th {\n",
       "        text-align: right;\n",
       "    }\n",
       "</style>\n",
       "<table border=\"1\" class=\"dataframe\">\n",
       "  <thead>\n",
       "    <tr style=\"text-align: right;\">\n",
       "      <th></th>\n",
       "      <th>Almond butter</th>\n",
       "      <th>Peanut butter</th>\n",
       "      <th>Cashew butter</th>\n",
       "    </tr>\n",
       "  </thead>\n",
       "  <tbody>\n",
       "    <tr>\n",
       "      <th>Price</th>\n",
       "      <td>10</td>\n",
       "      <td>8</td>\n",
       "      <td>12</td>\n",
       "    </tr>\n",
       "  </tbody>\n",
       "</table>\n",
       "</div>"
      ],
      "text/plain": [
       "       Almond butter  Peanut butter  Cashew butter\n",
       "Price             10              8             12"
      ]
     },
     "execution_count": 193,
     "metadata": {},
     "output_type": "execute_result"
    }
   ],
   "source": [
    "# Create Prices DataFrame\n",
    "butter_prices = pd.DataFrame(prices.reshape(1, 3),\n",
    "                             index=[\"Price\"],\n",
    "                            columns=[\"Almond butter\", \"Peanut butter\", \"Cashew butter\"])\n",
    "butter_prices"
   ]
  },
  {
   "cell_type": "code",
   "execution_count": 197,
   "id": "94799bf7-3a7f-49cf-9b00-66beca26abe6",
   "metadata": {},
   "outputs": [
    {
     "ename": "ValueError",
     "evalue": "shapes (3,) and (5,3) not aligned: 3 (dim 0) != 5 (dim 0)",
     "output_type": "error",
     "traceback": [
      "\u001b[1;31m---------------------------------------------------------------------------\u001b[0m",
      "\u001b[1;31mValueError\u001b[0m                                Traceback (most recent call last)",
      "Cell \u001b[1;32mIn[197], line 1\u001b[0m\n\u001b[1;32m----> 1\u001b[0m total_sales \u001b[38;5;241m=\u001b[39m \u001b[43mprices\u001b[49m\u001b[38;5;241;43m.\u001b[39;49m\u001b[43mdot\u001b[49m\u001b[43m(\u001b[49m\u001b[43msales_amounts\u001b[49m\u001b[43m)\u001b[49m\n",
      "\u001b[1;31mValueError\u001b[0m: shapes (3,) and (5,3) not aligned: 3 (dim 0) != 5 (dim 0)"
     ]
    }
   ],
   "source": [
    "total_sales = prices.dot(sales_amounts)"
   ]
  },
  {
   "cell_type": "code",
   "execution_count": 198,
   "id": "ecb7c0b2-ddf6-4bde-90cb-676260292fa2",
   "metadata": {},
   "outputs": [],
   "source": [
    "# Shapes aren't aligned, let's try transpose"
   ]
  },
  {
   "cell_type": "code",
   "execution_count": 196,
   "id": "2a95318d-58d3-4b96-a106-022c10b601c2",
   "metadata": {},
   "outputs": [
    {
     "data": {
      "text/plain": [
       "array([240, 138, 458, 232, 142])"
      ]
     },
     "execution_count": 196,
     "metadata": {},
     "output_type": "execute_result"
    }
   ],
   "source": [
    "total_sales = np.dot(prices, sales_amounts.T)\n",
    "total_sales"
   ]
  },
  {
   "cell_type": "code",
   "execution_count": 199,
   "id": "eee87653-cc09-4a04-ba7f-778446669fec",
   "metadata": {},
   "outputs": [
    {
     "data": {
      "text/html": [
       "<div>\n",
       "<style scoped>\n",
       "    .dataframe tbody tr th:only-of-type {\n",
       "        vertical-align: middle;\n",
       "    }\n",
       "\n",
       "    .dataframe tbody tr th {\n",
       "        vertical-align: top;\n",
       "    }\n",
       "\n",
       "    .dataframe thead th {\n",
       "        text-align: right;\n",
       "    }\n",
       "</style>\n",
       "<table border=\"1\" class=\"dataframe\">\n",
       "  <thead>\n",
       "    <tr style=\"text-align: right;\">\n",
       "      <th></th>\n",
       "      <th>Sales</th>\n",
       "    </tr>\n",
       "  </thead>\n",
       "  <tbody>\n",
       "    <tr>\n",
       "      <th>Mon</th>\n",
       "      <td>240</td>\n",
       "    </tr>\n",
       "    <tr>\n",
       "      <th>Tue</th>\n",
       "      <td>138</td>\n",
       "    </tr>\n",
       "    <tr>\n",
       "      <th>Wed</th>\n",
       "      <td>458</td>\n",
       "    </tr>\n",
       "    <tr>\n",
       "      <th>Thu</th>\n",
       "      <td>232</td>\n",
       "    </tr>\n",
       "    <tr>\n",
       "      <th>Fri</th>\n",
       "      <td>142</td>\n",
       "    </tr>\n",
       "  </tbody>\n",
       "</table>\n",
       "</div>"
      ],
      "text/plain": [
       "     Sales\n",
       "Mon    240\n",
       "Tue    138\n",
       "Wed    458\n",
       "Thu    232\n",
       "Fri    142"
      ]
     },
     "execution_count": 199,
     "metadata": {},
     "output_type": "execute_result"
    }
   ],
   "source": [
    "# Create daily sales\n",
    "butter_sales = pd.DataFrame(total_sales.T,\n",
    "                            index=[\"Mon\", \"Tue\", \"Wed\", \"Thu\", \"Fri\"],\n",
    "                            columns=[\"Sales\"])\n",
    "butter_sales"
   ]
  },
  {
   "cell_type": "code",
   "execution_count": 200,
   "id": "fa10fcd1-fb50-4558-88ab-d5d629cd7118",
   "metadata": {},
   "outputs": [
    {
     "data": {
      "text/html": [
       "<div>\n",
       "<style scoped>\n",
       "    .dataframe tbody tr th:only-of-type {\n",
       "        vertical-align: middle;\n",
       "    }\n",
       "\n",
       "    .dataframe tbody tr th {\n",
       "        vertical-align: top;\n",
       "    }\n",
       "\n",
       "    .dataframe thead th {\n",
       "        text-align: right;\n",
       "    }\n",
       "</style>\n",
       "<table border=\"1\" class=\"dataframe\">\n",
       "  <thead>\n",
       "    <tr style=\"text-align: right;\">\n",
       "      <th></th>\n",
       "      <th>Amond butter</th>\n",
       "      <th>Peanut butter</th>\n",
       "      <th>Cashew butter</th>\n",
       "    </tr>\n",
       "  </thead>\n",
       "  <tbody>\n",
       "    <tr>\n",
       "      <th>Mon</th>\n",
       "      <td>12</td>\n",
       "      <td>15</td>\n",
       "      <td>0</td>\n",
       "    </tr>\n",
       "    <tr>\n",
       "      <th>Tue</th>\n",
       "      <td>3</td>\n",
       "      <td>3</td>\n",
       "      <td>7</td>\n",
       "    </tr>\n",
       "    <tr>\n",
       "      <th>Wed</th>\n",
       "      <td>9</td>\n",
       "      <td>19</td>\n",
       "      <td>18</td>\n",
       "    </tr>\n",
       "    <tr>\n",
       "      <th>Thu</th>\n",
       "      <td>4</td>\n",
       "      <td>6</td>\n",
       "      <td>12</td>\n",
       "    </tr>\n",
       "    <tr>\n",
       "      <th>Fri</th>\n",
       "      <td>1</td>\n",
       "      <td>6</td>\n",
       "      <td>7</td>\n",
       "    </tr>\n",
       "  </tbody>\n",
       "</table>\n",
       "</div>"
      ],
      "text/plain": [
       "     Amond butter  Peanut butter  Cashew butter\n",
       "Mon            12             15              0\n",
       "Tue             3              3              7\n",
       "Wed             9             19             18\n",
       "Thu             4              6             12\n",
       "Fri             1              6              7"
      ]
     },
     "execution_count": 200,
     "metadata": {},
     "output_type": "execute_result"
    }
   ],
   "source": [
    "weekly_sales"
   ]
  },
  {
   "cell_type": "code",
   "execution_count": 201,
   "id": "b36a3e22-7f3f-4b59-b265-baf38688c412",
   "metadata": {},
   "outputs": [
    {
     "data": {
      "text/html": [
       "<div>\n",
       "<style scoped>\n",
       "    .dataframe tbody tr th:only-of-type {\n",
       "        vertical-align: middle;\n",
       "    }\n",
       "\n",
       "    .dataframe tbody tr th {\n",
       "        vertical-align: top;\n",
       "    }\n",
       "\n",
       "    .dataframe thead th {\n",
       "        text-align: right;\n",
       "    }\n",
       "</style>\n",
       "<table border=\"1\" class=\"dataframe\">\n",
       "  <thead>\n",
       "    <tr style=\"text-align: right;\">\n",
       "      <th></th>\n",
       "      <th>Amond butter</th>\n",
       "      <th>Cashew butter</th>\n",
       "      <th>Peanut butter</th>\n",
       "      <th>Sales</th>\n",
       "    </tr>\n",
       "  </thead>\n",
       "  <tbody>\n",
       "    <tr>\n",
       "      <th>Mon</th>\n",
       "      <td>NaN</td>\n",
       "      <td>NaN</td>\n",
       "      <td>NaN</td>\n",
       "      <td>NaN</td>\n",
       "    </tr>\n",
       "    <tr>\n",
       "      <th>Tue</th>\n",
       "      <td>NaN</td>\n",
       "      <td>NaN</td>\n",
       "      <td>NaN</td>\n",
       "      <td>NaN</td>\n",
       "    </tr>\n",
       "    <tr>\n",
       "      <th>Wed</th>\n",
       "      <td>NaN</td>\n",
       "      <td>NaN</td>\n",
       "      <td>NaN</td>\n",
       "      <td>NaN</td>\n",
       "    </tr>\n",
       "    <tr>\n",
       "      <th>Thu</th>\n",
       "      <td>NaN</td>\n",
       "      <td>NaN</td>\n",
       "      <td>NaN</td>\n",
       "      <td>NaN</td>\n",
       "    </tr>\n",
       "    <tr>\n",
       "      <th>Fri</th>\n",
       "      <td>NaN</td>\n",
       "      <td>NaN</td>\n",
       "      <td>NaN</td>\n",
       "      <td>NaN</td>\n",
       "    </tr>\n",
       "  </tbody>\n",
       "</table>\n",
       "</div>"
      ],
      "text/plain": [
       "     Amond butter  Cashew butter  Peanut butter  Sales\n",
       "Mon           NaN            NaN            NaN    NaN\n",
       "Tue           NaN            NaN            NaN    NaN\n",
       "Wed           NaN            NaN            NaN    NaN\n",
       "Thu           NaN            NaN            NaN    NaN\n",
       "Fri           NaN            NaN            NaN    NaN"
      ]
     },
     "execution_count": 201,
     "metadata": {},
     "output_type": "execute_result"
    }
   ],
   "source": [
    "weekly_sales + butter_sales"
   ]
  },
  {
   "cell_type": "code",
   "execution_count": 203,
   "id": "b9f01d3e-85e9-4582-84fa-37d8847c941d",
   "metadata": {},
   "outputs": [
    {
     "data": {
      "text/html": [
       "<div>\n",
       "<style scoped>\n",
       "    .dataframe tbody tr th:only-of-type {\n",
       "        vertical-align: middle;\n",
       "    }\n",
       "\n",
       "    .dataframe tbody tr th {\n",
       "        vertical-align: top;\n",
       "    }\n",
       "\n",
       "    .dataframe thead th {\n",
       "        text-align: right;\n",
       "    }\n",
       "</style>\n",
       "<table border=\"1\" class=\"dataframe\">\n",
       "  <thead>\n",
       "    <tr style=\"text-align: right;\">\n",
       "      <th></th>\n",
       "      <th>Amond butter</th>\n",
       "      <th>Peanut butter</th>\n",
       "      <th>Cashew butter</th>\n",
       "      <th>Total ($)</th>\n",
       "    </tr>\n",
       "  </thead>\n",
       "  <tbody>\n",
       "    <tr>\n",
       "      <th>Mon</th>\n",
       "      <td>12</td>\n",
       "      <td>15</td>\n",
       "      <td>0</td>\n",
       "      <td>240</td>\n",
       "    </tr>\n",
       "    <tr>\n",
       "      <th>Tue</th>\n",
       "      <td>3</td>\n",
       "      <td>3</td>\n",
       "      <td>7</td>\n",
       "      <td>138</td>\n",
       "    </tr>\n",
       "    <tr>\n",
       "      <th>Wed</th>\n",
       "      <td>9</td>\n",
       "      <td>19</td>\n",
       "      <td>18</td>\n",
       "      <td>458</td>\n",
       "    </tr>\n",
       "    <tr>\n",
       "      <th>Thu</th>\n",
       "      <td>4</td>\n",
       "      <td>6</td>\n",
       "      <td>12</td>\n",
       "      <td>232</td>\n",
       "    </tr>\n",
       "    <tr>\n",
       "      <th>Fri</th>\n",
       "      <td>1</td>\n",
       "      <td>6</td>\n",
       "      <td>7</td>\n",
       "      <td>142</td>\n",
       "    </tr>\n",
       "  </tbody>\n",
       "</table>\n",
       "</div>"
      ],
      "text/plain": [
       "     Amond butter  Peanut butter  Cashew butter  Total ($)\n",
       "Mon            12             15              0        240\n",
       "Tue             3              3              7        138\n",
       "Wed             9             19             18        458\n",
       "Thu             4              6             12        232\n",
       "Fri             1              6              7        142"
      ]
     },
     "execution_count": 203,
     "metadata": {},
     "output_type": "execute_result"
    }
   ],
   "source": [
    "weekly_sales[\"Total ($)\"] = butter_sales\n",
    "weekly_sales"
   ]
  },
  {
   "cell_type": "markdown",
   "id": "97d960ca-1f47-4e0a-a22f-fb61807e4d40",
   "metadata": {},
   "source": [
    "## Comparison Operators"
   ]
  },
  {
   "cell_type": "code",
   "execution_count": 204,
   "id": "bc951a0a-06ab-421d-9120-039d234956f0",
   "metadata": {},
   "outputs": [
    {
     "data": {
      "text/plain": [
       "(array([1, 2, 3]),\n",
       " array([[1. , 2. , 3.3],\n",
       "        [4. , 5. , 6.3]]))"
      ]
     },
     "execution_count": 204,
     "metadata": {},
     "output_type": "execute_result"
    }
   ],
   "source": [
    "a1,a2"
   ]
  },
  {
   "cell_type": "code",
   "execution_count": 205,
   "id": "1e8393ad-81da-4529-86a1-842b8f965d87",
   "metadata": {},
   "outputs": [
    {
     "data": {
      "text/plain": [
       "array([[False, False, False],\n",
       "       [False, False, False]])"
      ]
     },
     "execution_count": 205,
     "metadata": {},
     "output_type": "execute_result"
    }
   ],
   "source": [
    "a1 > a2"
   ]
  },
  {
   "cell_type": "code",
   "execution_count": 206,
   "id": "a14021d1-6b27-4572-bcb2-c6bf1b9bb264",
   "metadata": {},
   "outputs": [
    {
     "data": {
      "text/plain": [
       "array([[ True,  True, False],\n",
       "       [False, False, False]])"
      ]
     },
     "execution_count": 206,
     "metadata": {},
     "output_type": "execute_result"
    }
   ],
   "source": [
    "bool_array = a1 >= a2\n",
    "bool_array"
   ]
  },
  {
   "cell_type": "code",
   "execution_count": 207,
   "id": "59d01177-6627-4a9d-8795-3b9479274cef",
   "metadata": {},
   "outputs": [
    {
     "data": {
      "text/plain": [
       "(numpy.ndarray, dtype('bool'))"
      ]
     },
     "execution_count": 207,
     "metadata": {},
     "output_type": "execute_result"
    }
   ],
   "source": [
    "type(bool_array), bool_array.dtype"
   ]
  },
  {
   "cell_type": "code",
   "execution_count": 208,
   "id": "f4884637-edd3-4c8a-8564-42ffb8e5927f",
   "metadata": {},
   "outputs": [
    {
     "data": {
      "text/plain": [
       "(array([ True,  True,  True]), array([False, False, False]))"
      ]
     },
     "execution_count": 208,
     "metadata": {},
     "output_type": "execute_result"
    }
   ],
   "source": [
    "a1 < 5, a1 > 5"
   ]
  },
  {
   "cell_type": "code",
   "execution_count": 209,
   "id": "ab51a800-e695-49fb-8f29-af6e3be76cee",
   "metadata": {},
   "outputs": [
    {
     "data": {
      "text/plain": [
       "array([ True,  True,  True])"
      ]
     },
     "execution_count": 209,
     "metadata": {},
     "output_type": "execute_result"
    }
   ],
   "source": [
    "a1 == a1"
   ]
  },
  {
   "cell_type": "code",
   "execution_count": 210,
   "id": "f5878ba2-efba-4926-8116-0d00399824fa",
   "metadata": {},
   "outputs": [
    {
     "data": {
      "text/plain": [
       "array([[ True,  True, False],\n",
       "       [False, False, False]])"
      ]
     },
     "execution_count": 210,
     "metadata": {},
     "output_type": "execute_result"
    }
   ],
   "source": [
    "a1 == a2"
   ]
  },
  {
   "cell_type": "markdown",
   "id": "32bd1138-35d0-4826-b5c0-c033445c4200",
   "metadata": {},
   "source": [
    "## 5. Sorting Arrays"
   ]
  },
  {
   "cell_type": "code",
   "execution_count": 216,
   "id": "6958b72b-fbb7-4983-9855-ab903e3e8a99",
   "metadata": {},
   "outputs": [
    {
     "data": {
      "text/plain": [
       "array([[8, 1, 3, 3, 3],\n",
       "       [7, 0, 1, 9, 9],\n",
       "       [0, 4, 7, 3, 2]])"
      ]
     },
     "execution_count": 216,
     "metadata": {},
     "output_type": "execute_result"
    }
   ],
   "source": [
    "random_array = np.random.randint(10, size=(3, 5))\n",
    "random_array"
   ]
  },
  {
   "cell_type": "code",
   "execution_count": 212,
   "id": "17bb9c88-6017-4c21-801a-ff337656097b",
   "metadata": {},
   "outputs": [
    {
     "data": {
      "text/plain": [
       "array([[1, 5, 7, 8, 9],\n",
       "       [0, 3, 4, 8, 9],\n",
       "       [0, 2, 3, 3, 5]])"
      ]
     },
     "execution_count": 212,
     "metadata": {},
     "output_type": "execute_result"
    }
   ],
   "source": [
    "np.sort(random_array)"
   ]
  },
  {
   "cell_type": "code",
   "execution_count": 213,
   "id": "b4f4c9f5-32ae-43d9-8e5f-4bdeb630a0ba",
   "metadata": {},
   "outputs": [
    {
     "data": {
      "text/plain": [
       "array([[7, 8, 1, 5, 9],\n",
       "       [8, 9, 4, 3, 0],\n",
       "       [3, 5, 0, 2, 3]])"
      ]
     },
     "execution_count": 213,
     "metadata": {},
     "output_type": "execute_result"
    }
   ],
   "source": [
    "random_array"
   ]
  },
  {
   "cell_type": "code",
   "execution_count": 214,
   "id": "7664dfe7-4b22-4270-bfb6-fc89559d71fd",
   "metadata": {},
   "outputs": [],
   "source": [
    "random_array.sort()"
   ]
  },
  {
   "cell_type": "code",
   "execution_count": 215,
   "id": "678951b4-9860-4677-93a6-013d9d78e6a9",
   "metadata": {},
   "outputs": [
    {
     "data": {
      "text/plain": [
       "array([[1, 5, 7, 8, 9],\n",
       "       [0, 3, 4, 8, 9],\n",
       "       [0, 2, 3, 3, 5]])"
      ]
     },
     "execution_count": 215,
     "metadata": {},
     "output_type": "execute_result"
    }
   ],
   "source": [
    "random_array"
   ]
  },
  {
   "cell_type": "code",
   "execution_count": 217,
   "id": "5548a36c-8544-4026-ac00-1138d44dd503",
   "metadata": {},
   "outputs": [
    {
     "data": {
      "text/plain": [
       "array([[8, 1, 3, 3, 3],\n",
       "       [7, 0, 1, 9, 9],\n",
       "       [0, 4, 7, 3, 2]])"
      ]
     },
     "execution_count": 217,
     "metadata": {},
     "output_type": "execute_result"
    }
   ],
   "source": [
    "# randomize again...\n",
    "random_array"
   ]
  },
  {
   "cell_type": "code",
   "execution_count": 218,
   "id": "bcca36de-93fd-41c1-9ce1-b5136a1634f5",
   "metadata": {},
   "outputs": [
    {
     "data": {
      "text/plain": [
       "array([[1, 2, 3, 4, 0],\n",
       "       [1, 2, 0, 3, 4],\n",
       "       [0, 4, 3, 1, 2]], dtype=int64)"
      ]
     },
     "execution_count": 218,
     "metadata": {},
     "output_type": "execute_result"
    }
   ],
   "source": [
    "np.argsort(random_array)"
   ]
  },
  {
   "cell_type": "code",
   "execution_count": 219,
   "id": "b8bffc3b-ea08-4a23-8736-8b05d3f326f4",
   "metadata": {},
   "outputs": [
    {
     "data": {
      "text/plain": [
       "array([1, 2, 3])"
      ]
     },
     "execution_count": 219,
     "metadata": {},
     "output_type": "execute_result"
    }
   ],
   "source": [
    "a1"
   ]
  },
  {
   "cell_type": "code",
   "execution_count": 220,
   "id": "8a8b1177-7d88-4928-b300-44e2cbb2e072",
   "metadata": {},
   "outputs": [
    {
     "data": {
      "text/plain": [
       "0"
      ]
     },
     "execution_count": 220,
     "metadata": {},
     "output_type": "execute_result"
    }
   ],
   "source": [
    "np.argmin(a1)"
   ]
  },
  {
   "cell_type": "code",
   "execution_count": 221,
   "id": "366898ed-4bc3-46f4-b11f-b35af03fe40c",
   "metadata": {},
   "outputs": [
    {
     "data": {
      "text/plain": [
       "2"
      ]
     },
     "execution_count": 221,
     "metadata": {},
     "output_type": "execute_result"
    }
   ],
   "source": [
    "np.argmax(a1)"
   ]
  },
  {
   "cell_type": "code",
   "execution_count": 226,
   "id": "b29d1e03-c54b-444d-9283-2234b0a94bb0",
   "metadata": {},
   "outputs": [
    {
     "data": {
      "text/plain": [
       "array([[8, 1, 3, 3, 3],\n",
       "       [7, 0, 1, 9, 9],\n",
       "       [0, 4, 7, 3, 2]])"
      ]
     },
     "execution_count": 226,
     "metadata": {},
     "output_type": "execute_result"
    }
   ],
   "source": [
    "random_array"
   ]
  },
  {
   "cell_type": "code",
   "execution_count": 224,
   "id": "3a4fc181-b51e-43d8-b6f3-2768b1de27c5",
   "metadata": {},
   "outputs": [
    {
     "data": {
      "text/plain": [
       "array([2, 1, 1, 0, 2], dtype=int64)"
      ]
     },
     "execution_count": 224,
     "metadata": {},
     "output_type": "execute_result"
    }
   ],
   "source": [
    "np.argmin(random_array, axis=0)"
   ]
  },
  {
   "cell_type": "code",
   "execution_count": 225,
   "id": "4d1f315d-9c68-4b0a-ac31-2405f76a8bf5",
   "metadata": {},
   "outputs": [
    {
     "data": {
      "text/plain": [
       "array([0, 3, 2], dtype=int64)"
      ]
     },
     "execution_count": 225,
     "metadata": {},
     "output_type": "execute_result"
    }
   ],
   "source": [
    "np.argmax(random_array, axis=1)"
   ]
  },
  {
   "cell_type": "markdown",
   "id": "f1a10b39-67bb-48f8-a932-f128ee7da847",
   "metadata": {},
   "source": [
    "## 6. Practical Example - NumPy in Action!!"
   ]
  },
  {
   "cell_type": "markdown",
   "id": "51a4aa2f-8306-49c5-9ee1-614952724f1c",
   "metadata": {},
   "source": [
    "<img src=\"../complete/images/Giant-Panda.jpg\"/>"
   ]
  },
  {
   "cell_type": "code",
   "execution_count": 228,
   "id": "b5d3beb3-7fbd-4141-b7bb-4f4d95d0a767",
   "metadata": {},
   "outputs": [],
   "source": [
    "# Turn an image into a NumPy array\n",
    "from matplotlib.image import imread"
   ]
  },
  {
   "cell_type": "code",
   "execution_count": 229,
   "id": "567c15ca-4516-46b5-948b-92f4098d7f1f",
   "metadata": {},
   "outputs": [
    {
     "data": {
      "text/plain": [
       "numpy.ndarray"
      ]
     },
     "execution_count": 229,
     "metadata": {},
     "output_type": "execute_result"
    }
   ],
   "source": [
    "panda = imread(\"complete/images/Giant-Panda.jpg\")\n",
    "type(panda)"
   ]
  },
  {
   "cell_type": "code",
   "execution_count": 230,
   "id": "b8c99c5b-f678-47e8-a72d-28da3b13703d",
   "metadata": {},
   "outputs": [
    {
     "name": "stdout",
     "output_type": "stream",
     "text": [
      "<class 'numpy.ndarray'>\n"
     ]
    }
   ],
   "source": [
    "print(type(panda))"
   ]
  },
  {
   "cell_type": "code",
   "execution_count": 232,
   "id": "7dc77b5e-b976-401d-b540-5b4107f5c758",
   "metadata": {},
   "outputs": [
    {
     "data": {
      "text/plain": [
       "(1281600, (534, 800, 3), 3)"
      ]
     },
     "execution_count": 232,
     "metadata": {},
     "output_type": "execute_result"
    }
   ],
   "source": [
    "panda.size, panda.shape, panda.ndim"
   ]
  },
  {
   "cell_type": "code",
   "execution_count": null,
   "id": "ffbe028e-980a-49e2-bd03-5616c5f01916",
   "metadata": {},
   "outputs": [],
   "source": []
  }
 ],
 "metadata": {
  "kernelspec": {
   "display_name": "Python 3 (ipykernel)",
   "language": "python",
   "name": "python3"
  },
  "language_info": {
   "codemirror_mode": {
    "name": "ipython",
    "version": 3
   },
   "file_extension": ".py",
   "mimetype": "text/x-python",
   "name": "python",
   "nbconvert_exporter": "python",
   "pygments_lexer": "ipython3",
   "version": "3.11.4"
  }
 },
 "nbformat": 4,
 "nbformat_minor": 5
}
